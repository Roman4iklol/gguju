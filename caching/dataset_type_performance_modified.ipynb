{
 "cells": [
  {
   "cell_type": "markdown",
   "metadata": {
    "id": "Z75S64TYCYBh"
   },
   "source": [
    "# PersistentDataset, CacheDataset, SmartCacheDataset and simple Dataset Tutorial and Speed Test\n",
    "\n",
    "This tutorial shows how to accelerate PyTorch medical DL program based on\n",
    "how data is loaded and preprocessed using different MONAI `Dataset` managers.\n",
    "\n",
    "`Dataset` provides the simplest model of data loading.  Each time a dataset is needed, it is reloaded from the original datasources, and processed through the all non-random and random transforms to generate analyzable tensors. This mechanism has the smallest memory footprint, and the smallest temporary disk footprint.\n",
    "\n",
    "`CacheDataset` provides a mechanism to pre-load all original data and apply non-random transforms into analyzable tensors loaded in memory prior to starting analysis.  The `CacheDataset` requires all tensor representations of data requested to be loaded into memory at once. The subset of random transforms is applied to the cached components before use. This is the highest performance dataset if all data fit in core memory.\n",
    "\n",
    "`PersistentDataset` processes original data sources through the non-random transforms on first use, and stores these intermediate tensor values to an on-disk persistence representation.  The intermediate processed tensors are loaded from disk on each use for processing by the random-transforms for each analysis request.  The `PersistentDataset` has a similar memory footprint to the simple `Dataset`, with performance characteristics close to the `CacheDataset` at the expense of disk storage.  Additionally, the cost of first time processing of data is distributed across each first use.\n",
    "\n",
    "It's modified from the [Spleen 3D segmentation tutorial notebook](https://github.com/Project-MONAI/tutorials/blob/main/3d_segmentation/spleen_segmentation_3d.ipynb).\n",
    "\n",
    "[![Open In Colab](https://colab.research.google.com/assets/colab-badge.svg)](https://colab.research.google.com/github/Project-MONAI/tutorials/blob/main/acceleration/dataset_type_performance.ipynb)"
   ]
  },
  {
   "cell_type": "markdown",
   "metadata": {
    "id": "snJpdtL_CYBj"
   },
   "source": [
    "## Setup environment"
   ]
  },
  {
   "cell_type": "code",
   "execution_count": 2,
   "metadata": {
    "id": "h66KK6qcCYBk",
    "tags": []
   },
   "outputs": [],
   "source": [
    "# I don't need to run the following 2 lines, already installed in MONAI Core v0.9.1 container, \n",
    "# !python -c \"import monai\" || pip install -q \"monai-weekly[pillow, tqdm]\"\n",
    "# !python -c \"import matplotlib\" || pip install -q matplotlib\n",
    "%matplotlib inline"
   ]
  },
  {
   "cell_type": "markdown",
   "metadata": {
    "id": "CHmKUNEHCYBl"
   },
   "source": [
    "## Setup imports"
   ]
  },
  {
   "cell_type": "code",
   "execution_count": 3,
   "metadata": {
    "colab": {
     "base_uri": "https://localhost:8080/"
    },
    "id": "J2QzlOb6CYBl",
    "outputId": "48171f9f-52d2-4616-b0ea-cb8686f14306",
    "tags": []
   },
   "outputs": [
    {
     "name": "stderr",
     "output_type": "stream",
     "text": [
      "/opt/conda/lib/python3.8/site-packages/tqdm/auto.py:22: TqdmWarning: IProgress not found. Please update jupyter and ipywidgets. See https://ipywidgets.readthedocs.io/en/stable/user_install.html\n",
      "  from .autonotebook import tqdm as notebook_tqdm\n"
     ]
    },
    {
     "name": "stdout",
     "output_type": "stream",
     "text": [
      "MONAI version: 0.9.1\n",
      "Numpy version: 1.22.4\n",
      "Pytorch version: 1.13.0a0+340c412\n",
      "MONAI flags: HAS_EXT = True, USE_COMPILED = False, USE_META_DICT = False\n",
      "MONAI rev id: 356d2d2f41b473f588899d705bbc682308cee52c\n",
      "MONAI __file__: /opt/monai/monai/__init__.py\n",
      "\n",
      "Optional dependencies:\n",
      "Pytorch Ignite version: 0.4.9\n",
      "Nibabel version: 4.0.1\n",
      "scikit-image version: 0.19.3\n",
      "Pillow version: 9.0.1\n",
      "Tensorboard version: 2.9.1\n",
      "gdown version: 4.5.1\n",
      "TorchVision version: 0.13.0a0\n",
      "tqdm version: 4.64.0\n",
      "lmdb version: 1.3.0\n",
      "psutil version: 5.9.1\n",
      "pandas version: 1.3.5\n",
      "einops version: 0.4.1\n",
      "transformers version: 4.20.1\n",
      "mlflow version: 1.27.0\n",
      "pynrrd version: 0.4.3\n",
      "\n",
      "For details about installing the optional dependencies, please visit:\n",
      "    https://docs.monai.io/en/latest/installation.html#installing-the-recommended-dependencies\n",
      "\n"
     ]
    }
   ],
   "source": [
    "# Copyright 2020 MONAI Consortium\n",
    "# Licensed under the Apache License, Version 2.0 (the \"License\");\n",
    "# you may not use this file except in compliance with the License.\n",
    "# You may obtain a copy of the License at\n",
    "#     http://www.apache.org/licenses/LICENSE-2.0\n",
    "# Unless required by applicable law or agreed to in writing, software\n",
    "# distributed under the License is distributed on an \"AS IS\" BASIS,\n",
    "# WITHOUT WARRANTIES OR CONDITIONS OF ANY KIND, either express or implied.\n",
    "# See the License for the specific language governing permissions and\n",
    "# limitations under the License.\n",
    "\n",
    "import glob\n",
    "import os\n",
    "import pathlib\n",
    "import shutil\n",
    "import tempfile\n",
    "import time\n",
    "\n",
    "import matplotlib.pyplot as plt\n",
    "import torch\n",
    "from monai.apps import download_and_extract\n",
    "from monai.config import print_config\n",
    "from monai.data import (\n",
    "    CacheDataset,\n",
    "    Dataset,\n",
    "    DataLoader,\n",
    "    PersistentDataset,\n",
    "    SmartCacheDataset,\n",
    "    decollate_batch,\n",
    ")\n",
    "from monai.inferers import sliding_window_inference\n",
    "from monai.losses import DiceLoss\n",
    "from monai.metrics import DiceMetric\n",
    "from monai.networks.layers import Norm\n",
    "from monai.networks.nets import UNet\n",
    "from monai.transforms import (\n",
    "    EnsureChannelFirstd,\n",
    "    AsDiscrete,\n",
    "    Compose,\n",
    "    CropForegroundd,\n",
    "    LoadImaged,\n",
    "    Orientationd,\n",
    "    RandCropByPosNegLabeld,\n",
    "    ScaleIntensityRanged,\n",
    "    Spacingd,\n",
    ")\n",
    "from monai.utils import set_determinism\n",
    "\n",
    "print_config()"
   ]
  },
  {
   "cell_type": "markdown",
   "metadata": {
    "id": "9T8aDh_RCYBl"
   },
   "source": [
    "## Setup data directory\n",
    "\n",
    "You can specify a directory with the `MONAI_DATA_DIRECTORY` environment variable.  \n",
    "This allows you to save results and reuse downloads.  \n",
    "If not specified a temporary directory will be used."
   ]
  },
  {
   "cell_type": "code",
   "execution_count": 4,
   "metadata": {
    "colab": {
     "base_uri": "https://localhost:8080/"
    },
    "id": "P883AeKnCYBm",
    "outputId": "cf8f6303-68ee-4612-df4d-58481c52a065",
    "tags": []
   },
   "outputs": [
    {
     "name": "stdout",
     "output_type": "stream",
     "text": [
      "/scratch/local/47728021/tmpo5hp49o_\n"
     ]
    }
   ],
   "source": [
    "directory = os.environ.get(\"MONAI_DATA_DIRECTORY\")\n",
    "root_dir = tempfile.mkdtemp() if directory is None else directory\n",
    "print(root_dir)"
   ]
  },
  {
   "cell_type": "markdown",
   "metadata": {
    "id": "ICvVt0-HCYBm"
   },
   "source": [
    "## Define a typical PyTorch training process"
   ]
  },
  {
   "cell_type": "code",
   "execution_count": 5,
   "metadata": {
    "id": "YFZFngoECYBn"
   },
   "outputs": [],
   "source": [
    "def train_process(train_ds, val_ds):\n",
    "    # use batch_size=2 to load images and use RandCropByPosNegLabeld\n",
    "    # to generate 2 x 4 images for network training\n",
    "    train_loader = DataLoader(\n",
    "        train_ds,\n",
    "        batch_size=2,\n",
    "        # batch_size=1,\n",
    "        shuffle=True,\n",
    "        num_workers=2,\n",
    "    )\n",
    "    val_loader = DataLoader(\n",
    "        val_ds, batch_size=1, num_workers=2\n",
    "    )\n",
    "    device = torch.device(\"cuda:0\")\n",
    "    model = UNet(\n",
    "        spatial_dims=3,\n",
    "        in_channels=1,\n",
    "        out_channels=2,\n",
    "        channels=(16, 32, 64, 128, 256),\n",
    "        strides=(2, 2, 2, 2),\n",
    "        num_res_units=2,\n",
    "        norm=Norm.BATCH,\n",
    "    ).to(device)\n",
    "    loss_function = DiceLoss(to_onehot_y=True, softmax=True)\n",
    "    optimizer = torch.optim.Adam(model.parameters(), 1e-4)\n",
    "\n",
    "    post_pred = Compose([AsDiscrete(argmax=True, to_onehot=2)])\n",
    "    post_label = Compose([AsDiscrete(to_onehot=2)])\n",
    "\n",
    "    dice_metric = DiceMetric(include_background=True, reduction=\"mean\", get_not_nans=False)\n",
    "\n",
    "    max_epochs = 3\n",
    "    val_interval = 1  # do validation for every epoch\n",
    "    best_metric = -1\n",
    "    best_metric_epoch = -1\n",
    "    epoch_loss_values = []\n",
    "    metric_values = []\n",
    "    epoch_times = []\n",
    "    total_start = time.time()\n",
    "    for epoch in range(max_epochs):\n",
    "        epoch_start = time.time()\n",
    "        print(\"-\" * 10)\n",
    "        print(f\"epoch {epoch + 1}/{max_epochs}\")\n",
    "        model.train()\n",
    "        epoch_loss = 0\n",
    "        step = 0\n",
    "        for batch_data in train_loader:\n",
    "            step_start = time.time()\n",
    "            step += 1\n",
    "            inputs, labels = (\n",
    "                batch_data[\"image\"].to(device),\n",
    "                batch_data[\"label\"].to(device),\n",
    "            )\n",
    "            optimizer.zero_grad()\n",
    "            outputs = model(inputs)\n",
    "            loss = loss_function(outputs, labels)\n",
    "            loss.backward()\n",
    "            optimizer.step()\n",
    "            epoch_loss += loss.item()\n",
    "            print(\n",
    "                f\"len(train_files) {len(train_files)},\"\n",
    "                f\" len(train_ds) {len(train_ds)},\"\n",
    "                f\" len(train_loader) {len(train_loader)},\"\n",
    "                f\" train_loader.batch_size {train_loader.batch_size},\"\n",
    "                f\" step/(len(train_ds)/train_loader.batch_size) {step}/{len(train_ds) // train_loader.batch_size},\"\n",
    "                f\" step/(len(train_loader) - 1) {step}/{len(train_loader) - 1},\"\n",
    "                f\" train_loss: {loss.item():.4f}\"\n",
    "                f\" step time: {(time.time() - step_start):.4f}\"\n",
    "            )\n",
    "        epoch_loss /= step\n",
    "        epoch_loss_values.append(epoch_loss)\n",
    "        print(f\"epoch {epoch + 1} average loss: {epoch_loss:.4f}\")\n",
    "\n",
    "        if (epoch + 1) % val_interval == 0:\n",
    "            model.eval()\n",
    "            with torch.no_grad():\n",
    "                for val_data in val_loader:\n",
    "                    val_inputs, val_labels = (\n",
    "                        val_data[\"image\"].to(device),\n",
    "                        val_data[\"label\"].to(device),\n",
    "                    )\n",
    "                    roi_size = (160, 160, 160)\n",
    "                    sw_batch_size = 4\n",
    "                    val_outputs = sliding_window_inference(\n",
    "                        val_inputs, roi_size, sw_batch_size, model\n",
    "                    )\n",
    "                    val_outputs = [post_pred(i) for i in decollate_batch(val_outputs)]\n",
    "                    val_labels = [post_label(i) for i in decollate_batch(val_labels)]\n",
    "                    dice_metric(y_pred=val_outputs, y=val_labels)\n",
    "\n",
    "                metric = dice_metric.aggregate().item()\n",
    "                dice_metric.reset()\n",
    "                metric_values.append(metric)\n",
    "                if metric > best_metric:\n",
    "                    best_metric = metric\n",
    "                    best_metric_epoch = epoch + 1\n",
    "                    torch.save(\n",
    "                        model.state_dict(),\n",
    "                        os.path.join(root_dir, \"best_metric_model.pth\"),\n",
    "                    )\n",
    "                    print(\"saved new best metric model\")\n",
    "                print(\n",
    "                    f\"current epoch: {epoch + 1} current\"\n",
    "                    f\" mean dice: {metric:.4f}\"\n",
    "                    f\" best mean dice: {best_metric:.4f}\"\n",
    "                    f\" at epoch: {best_metric_epoch}\"\n",
    "                )\n",
    "        print(\n",
    "            f\"time of epoch {epoch + 1} is: {(time.time() - epoch_start):.4f}\"\n",
    "        )\n",
    "        epoch_times.append(time.time() - epoch_start)\n",
    "\n",
    "    print(\n",
    "        f\"train completed, best_metric: {best_metric:.4f}\"\n",
    "        f\" at epoch: {best_metric_epoch}\"\n",
    "        f\" total time: {(time.time() - total_start):.4f}\"\n",
    "    )\n",
    "    return (\n",
    "        max_epochs,\n",
    "        time.time() - total_start,\n",
    "        epoch_loss_values,\n",
    "        metric_values,\n",
    "        epoch_times,\n",
    "    )"
   ]
  },
  {
   "cell_type": "markdown",
   "metadata": {
    "id": "NDzjsCSYCYBo"
   },
   "source": [
    "# Start of speed testing\n",
    "\n",
    "The `PersistenceDataset`, `CacheDataset`, and `Dataset` are compared for speed for running 600 epochs."
   ]
  },
  {
   "cell_type": "markdown",
   "metadata": {
    "id": "ihH1FhwECYBo"
   },
   "source": [
    "## Download dataset\n",
    "\n",
    "Downloads and extracts the dataset.\n",
    "The dataset comes from http://medicaldecathlon.com/."
   ]
  },
  {
   "cell_type": "code",
   "execution_count": 6,
   "metadata": {
    "colab": {
     "base_uri": "https://localhost:8080/"
    },
    "id": "q54LT2n_CYBo",
    "outputId": "cfff0f63-31ec-45c2-a387-82fdf61f34d5",
    "tags": []
   },
   "outputs": [
    {
     "name": "stderr",
     "output_type": "stream",
     "text": [
      "Task09_Spleen.tar: 1.50GB [1:10:37, 380kB/s]                              "
     ]
    },
    {
     "name": "stdout",
     "output_type": "stream",
     "text": [
      "2022-09-21 23:16:56,891 - INFO - Downloaded: /scratch/local/47728021/tmpo5hp49o_/Task09_Spleen.tar\n"
     ]
    },
    {
     "name": "stderr",
     "output_type": "stream",
     "text": [
      "\n"
     ]
    },
    {
     "name": "stdout",
     "output_type": "stream",
     "text": [
      "2022-09-21 23:16:59,473 - INFO - Verified 'Task09_Spleen.tar', md5: 410d4a301da4e5b2f6f86ec3ddba524e.\n",
      "2022-09-21 23:16:59,474 - INFO - Writing into directory: /scratch/local/47728021/tmpo5hp49o_.\n"
     ]
    }
   ],
   "source": [
    "resource = \"https://msd-for-monai.s3-us-west-2.amazonaws.com/Task09_Spleen.tar\"\n",
    "md5 = \"410d4a301da4e5b2f6f86ec3ddba524e\"\n",
    "\n",
    "compressed_file = os.path.join(root_dir, \"Task09_Spleen.tar\")\n",
    "data_dir = os.path.join(root_dir, \"Task09_Spleen\")\n",
    "if not os.path.exists(data_dir):\n",
    "    download_and_extract(resource, compressed_file, root_dir, md5)"
   ]
  },
  {
   "cell_type": "markdown",
   "metadata": {
    "id": "uFMaeAAtCYBp"
   },
   "source": [
    "## Set MSD Spleen dataset path"
   ]
  },
  {
   "cell_type": "code",
   "execution_count": 7,
   "metadata": {
    "colab": {
     "base_uri": "https://localhost:8080/"
    },
    "id": "EY27fJTMCYBp",
    "outputId": "e1db6833-c530-4b27-e133-c76848f31789"
   },
   "outputs": [
    {
     "name": "stdout",
     "output_type": "stream",
     "text": [
      "len(train_files) 32, len(val_files) 9\n"
     ]
    }
   ],
   "source": [
    "train_images = sorted(\n",
    "    glob.glob(os.path.join(data_dir, \"imagesTr\", \"*.nii.gz\"))\n",
    ")\n",
    "train_labels = sorted(\n",
    "    glob.glob(os.path.join(data_dir, \"labelsTr\", \"*.nii.gz\"))\n",
    ")\n",
    "data_dicts = [\n",
    "    {\"image\": image_name, \"label\": label_name}\n",
    "    for image_name, label_name in zip(train_images, train_labels)\n",
    "]\n",
    "train_files, val_files = data_dicts[:-9], data_dicts[-9:]\n",
    "print(f\"len(train_files) {len(train_files)}, len(val_files) {len(val_files)}\")"
   ]
  },
  {
   "cell_type": "markdown",
   "metadata": {
    "id": "iEFMaoVNCYBp"
   },
   "source": [
    "## Setup transforms for training and validation\n",
    "\n",
    "Deterministic transforms during training:\n",
    "* LoadImaged\n",
    "* EnsureChannelFirstd\n",
    "* Spacingd\n",
    "* Orientationd\n",
    "* ScaleIntensityRanged\n",
    "\n",
    "Non-deterministic transforms:\n",
    "* RandCropByPosNegLabeld\n",
    "\n",
    "All the validation transforms are deterministic.\n",
    "The results of all the deterministic transforms will be cached to accelerate training."
   ]
  },
  {
   "cell_type": "code",
   "execution_count": 8,
   "metadata": {
    "id": "BRcwmFgvCYBp"
   },
   "outputs": [],
   "source": [
    "def transformations():\n",
    "    train_transforms = Compose(\n",
    "        [\n",
    "            LoadImaged(keys=[\"image\", \"label\"]),\n",
    "            EnsureChannelFirstd(keys=[\"image\", \"label\"]),\n",
    "            Orientationd(keys=[\"image\", \"label\"], axcodes=\"RAS\"),\n",
    "            Spacingd(\n",
    "                keys=[\"image\", \"label\"],\n",
    "                pixdim=(1.5, 1.5, 2.0),\n",
    "                mode=(\"bilinear\", \"nearest\"),\n",
    "            ),\n",
    "            ScaleIntensityRanged(\n",
    "                keys=[\"image\"],\n",
    "                a_min=-57,\n",
    "                a_max=164,\n",
    "                b_min=0.0,\n",
    "                b_max=1.0,\n",
    "                clip=True,\n",
    "            ),\n",
    "            CropForegroundd(keys=[\"image\", \"label\"], source_key=\"image\"),\n",
    "            # randomly crop out patch samples from big\n",
    "            # image based on pos / neg ratio\n",
    "            # the image centers of negative samples\n",
    "            # must be in valid image area\n",
    "            RandCropByPosNegLabeld(\n",
    "                keys=[\"image\", \"label\"],\n",
    "                label_key=\"label\",\n",
    "                spatial_size=(96, 96, 96),\n",
    "                pos=1,\n",
    "                neg=1,\n",
    "                num_samples=4,\n",
    "                image_key=\"image\",\n",
    "                image_threshold=0,\n",
    "            ),\n",
    "        ]\n",
    "    )\n",
    "\n",
    "    # NOTE: No random cropping in the validation data,\n",
    "    # we will evaluate the entire image using a sliding window.\n",
    "    val_transforms = Compose(\n",
    "        [\n",
    "            LoadImaged(keys=[\"image\", \"label\"]),\n",
    "            EnsureChannelFirstd(keys=[\"image\", \"label\"]),\n",
    "            Orientationd(keys=[\"image\", \"label\"], axcodes=\"RAS\"),\n",
    "            Spacingd(\n",
    "                keys=[\"image\", \"label\"],\n",
    "                pixdim=(1.5, 1.5, 2.0),\n",
    "                mode=(\"bilinear\", \"nearest\"),\n",
    "            ),\n",
    "            ScaleIntensityRanged(\n",
    "                keys=[\"image\"],\n",
    "                a_min=-57,\n",
    "                a_max=164,\n",
    "                b_min=0.0,\n",
    "                b_max=1.0,\n",
    "                clip=True,\n",
    "            ),\n",
    "            CropForegroundd(keys=[\"image\", \"label\"], source_key=\"image\"),\n",
    "        ]\n",
    "    )\n",
    "    return train_transforms, val_transforms"
   ]
  },
  {
   "cell_type": "markdown",
   "metadata": {
    "id": "I0z0b8E_CYBq"
   },
   "source": [
    "## Enable deterministic training and regular `Dataset`\n",
    "\n",
    "Load each original dataset and transform each time it is needed."
   ]
  },
  {
   "cell_type": "code",
   "execution_count": 9,
   "metadata": {
    "colab": {
     "base_uri": "https://localhost:8080/"
    },
    "id": "MMp6lOOGCYBq",
    "outputId": "37b17d41-73aa-4de5-d4a9-22ccc9ad2e12",
    "tags": []
   },
   "outputs": [
    {
     "name": "stdout",
     "output_type": "stream",
     "text": [
      "----------\n",
      "epoch 1/3\n",
      "len(train_files) 32, len(train_ds) 32, len(train_loader) 16, train_loader.batch_size 2, step/(len(train_ds)/train_loader.batch_size) 1/16, step/(len(train_loader) - 1) 1/15, train_loss: 0.6664 step time: 55.6309\n",
      "len(train_files) 32, len(train_ds) 32, len(train_loader) 16, train_loader.batch_size 2, step/(len(train_ds)/train_loader.batch_size) 2/16, step/(len(train_loader) - 1) 2/15, train_loss: 0.6870 step time: 0.5455\n",
      "len(train_files) 32, len(train_ds) 32, len(train_loader) 16, train_loader.batch_size 2, step/(len(train_ds)/train_loader.batch_size) 3/16, step/(len(train_loader) - 1) 3/15, train_loss: 0.6711 step time: 0.1381\n",
      "len(train_files) 32, len(train_ds) 32, len(train_loader) 16, train_loader.batch_size 2, step/(len(train_ds)/train_loader.batch_size) 4/16, step/(len(train_loader) - 1) 4/15, train_loss: 0.6910 step time: 0.1324\n",
      "len(train_files) 32, len(train_ds) 32, len(train_loader) 16, train_loader.batch_size 2, step/(len(train_ds)/train_loader.batch_size) 5/16, step/(len(train_loader) - 1) 5/15, train_loss: 0.6883 step time: 0.0948\n",
      "len(train_files) 32, len(train_ds) 32, len(train_loader) 16, train_loader.batch_size 2, step/(len(train_ds)/train_loader.batch_size) 6/16, step/(len(train_loader) - 1) 6/15, train_loss: 0.6835 step time: 0.1545\n",
      "len(train_files) 32, len(train_ds) 32, len(train_loader) 16, train_loader.batch_size 2, step/(len(train_ds)/train_loader.batch_size) 7/16, step/(len(train_loader) - 1) 7/15, train_loss: 0.6729 step time: 0.1344\n",
      "len(train_files) 32, len(train_ds) 32, len(train_loader) 16, train_loader.batch_size 2, step/(len(train_ds)/train_loader.batch_size) 8/16, step/(len(train_loader) - 1) 8/15, train_loss: 0.6791 step time: 0.1381\n",
      "len(train_files) 32, len(train_ds) 32, len(train_loader) 16, train_loader.batch_size 2, step/(len(train_ds)/train_loader.batch_size) 9/16, step/(len(train_loader) - 1) 9/15, train_loss: 0.6724 step time: 0.1092\n",
      "len(train_files) 32, len(train_ds) 32, len(train_loader) 16, train_loader.batch_size 2, step/(len(train_ds)/train_loader.batch_size) 10/16, step/(len(train_loader) - 1) 10/15, train_loss: 0.6523 step time: 0.1042\n",
      "len(train_files) 32, len(train_ds) 32, len(train_loader) 16, train_loader.batch_size 2, step/(len(train_ds)/train_loader.batch_size) 11/16, step/(len(train_loader) - 1) 11/15, train_loss: 0.6623 step time: 0.1516\n",
      "len(train_files) 32, len(train_ds) 32, len(train_loader) 16, train_loader.batch_size 2, step/(len(train_ds)/train_loader.batch_size) 12/16, step/(len(train_loader) - 1) 12/15, train_loss: 0.6840 step time: 0.1641\n",
      "len(train_files) 32, len(train_ds) 32, len(train_loader) 16, train_loader.batch_size 2, step/(len(train_ds)/train_loader.batch_size) 13/16, step/(len(train_loader) - 1) 13/15, train_loss: 0.6309 step time: 0.1031\n",
      "len(train_files) 32, len(train_ds) 32, len(train_loader) 16, train_loader.batch_size 2, step/(len(train_ds)/train_loader.batch_size) 14/16, step/(len(train_loader) - 1) 14/15, train_loss: 0.6648 step time: 0.1027\n",
      "len(train_files) 32, len(train_ds) 32, len(train_loader) 16, train_loader.batch_size 2, step/(len(train_ds)/train_loader.batch_size) 15/16, step/(len(train_loader) - 1) 15/15, train_loss: 0.6668 step time: 0.1037\n",
      "len(train_files) 32, len(train_ds) 32, len(train_loader) 16, train_loader.batch_size 2, step/(len(train_ds)/train_loader.batch_size) 16/16, step/(len(train_loader) - 1) 16/15, train_loss: 0.6736 step time: 0.1042\n",
      "epoch 1 average loss: 0.6716\n",
      "saved new best metric model\n",
      "current epoch: 1 current mean dice: 0.1482 best mean dice: 0.1482 at epoch: 1\n",
      "time of epoch 1 is: 160.9521\n",
      "----------\n",
      "epoch 2/3\n",
      "len(train_files) 32, len(train_ds) 32, len(train_loader) 16, train_loader.batch_size 2, step/(len(train_ds)/train_loader.batch_size) 1/16, step/(len(train_loader) - 1) 1/15, train_loss: 0.6253 step time: 0.1497\n",
      "len(train_files) 32, len(train_ds) 32, len(train_loader) 16, train_loader.batch_size 2, step/(len(train_ds)/train_loader.batch_size) 2/16, step/(len(train_loader) - 1) 2/15, train_loss: 0.6539 step time: 0.1416\n",
      "len(train_files) 32, len(train_ds) 32, len(train_loader) 16, train_loader.batch_size 2, step/(len(train_ds)/train_loader.batch_size) 3/16, step/(len(train_loader) - 1) 3/15, train_loss: 0.6717 step time: 0.1559\n",
      "len(train_files) 32, len(train_ds) 32, len(train_loader) 16, train_loader.batch_size 2, step/(len(train_ds)/train_loader.batch_size) 4/16, step/(len(train_loader) - 1) 4/15, train_loss: 0.6394 step time: 0.1652\n",
      "len(train_files) 32, len(train_ds) 32, len(train_loader) 16, train_loader.batch_size 2, step/(len(train_ds)/train_loader.batch_size) 5/16, step/(len(train_loader) - 1) 5/15, train_loss: 0.6723 step time: 0.1419\n",
      "len(train_files) 32, len(train_ds) 32, len(train_loader) 16, train_loader.batch_size 2, step/(len(train_ds)/train_loader.batch_size) 6/16, step/(len(train_loader) - 1) 6/15, train_loss: 0.6352 step time: 0.1588\n",
      "len(train_files) 32, len(train_ds) 32, len(train_loader) 16, train_loader.batch_size 2, step/(len(train_ds)/train_loader.batch_size) 7/16, step/(len(train_loader) - 1) 7/15, train_loss: 0.6687 step time: 0.1717\n",
      "len(train_files) 32, len(train_ds) 32, len(train_loader) 16, train_loader.batch_size 2, step/(len(train_ds)/train_loader.batch_size) 8/16, step/(len(train_loader) - 1) 8/15, train_loss: 0.6142 step time: 0.1403\n",
      "len(train_files) 32, len(train_ds) 32, len(train_loader) 16, train_loader.batch_size 2, step/(len(train_ds)/train_loader.batch_size) 9/16, step/(len(train_loader) - 1) 9/15, train_loss: 0.6219 step time: 0.1590\n",
      "len(train_files) 32, len(train_ds) 32, len(train_loader) 16, train_loader.batch_size 2, step/(len(train_ds)/train_loader.batch_size) 10/16, step/(len(train_loader) - 1) 10/15, train_loss: 0.5881 step time: 0.0998\n",
      "len(train_files) 32, len(train_ds) 32, len(train_loader) 16, train_loader.batch_size 2, step/(len(train_ds)/train_loader.batch_size) 11/16, step/(len(train_loader) - 1) 11/15, train_loss: 0.6452 step time: 0.1697\n",
      "len(train_files) 32, len(train_ds) 32, len(train_loader) 16, train_loader.batch_size 2, step/(len(train_ds)/train_loader.batch_size) 12/16, step/(len(train_loader) - 1) 12/15, train_loss: 0.6547 step time: 0.1725\n",
      "len(train_files) 32, len(train_ds) 32, len(train_loader) 16, train_loader.batch_size 2, step/(len(train_ds)/train_loader.batch_size) 13/16, step/(len(train_loader) - 1) 13/15, train_loss: 0.6428 step time: 0.1491\n",
      "len(train_files) 32, len(train_ds) 32, len(train_loader) 16, train_loader.batch_size 2, step/(len(train_ds)/train_loader.batch_size) 14/16, step/(len(train_loader) - 1) 14/15, train_loss: 0.6339 step time: 0.1221\n",
      "len(train_files) 32, len(train_ds) 32, len(train_loader) 16, train_loader.batch_size 2, step/(len(train_ds)/train_loader.batch_size) 15/16, step/(len(train_loader) - 1) 15/15, train_loss: 0.6509 step time: 0.1041\n",
      "len(train_files) 32, len(train_ds) 32, len(train_loader) 16, train_loader.batch_size 2, step/(len(train_ds)/train_loader.batch_size) 16/16, step/(len(train_loader) - 1) 16/15, train_loss: 0.6119 step time: 0.0983\n",
      "epoch 2 average loss: 0.6394\n",
      "saved new best metric model\n",
      "current epoch: 2 current mean dice: 0.3708 best mean dice: 0.3708 at epoch: 2\n",
      "time of epoch 2 is: 88.2055\n",
      "----------\n",
      "epoch 3/3\n",
      "len(train_files) 32, len(train_ds) 32, len(train_loader) 16, train_loader.batch_size 2, step/(len(train_ds)/train_loader.batch_size) 1/16, step/(len(train_loader) - 1) 1/15, train_loss: 0.5883 step time: 0.1852\n",
      "len(train_files) 32, len(train_ds) 32, len(train_loader) 16, train_loader.batch_size 2, step/(len(train_ds)/train_loader.batch_size) 2/16, step/(len(train_loader) - 1) 2/15, train_loss: 0.6122 step time: 0.1203\n",
      "len(train_files) 32, len(train_ds) 32, len(train_loader) 16, train_loader.batch_size 2, step/(len(train_ds)/train_loader.batch_size) 3/16, step/(len(train_loader) - 1) 3/15, train_loss: 0.6292 step time: 0.1050\n",
      "len(train_files) 32, len(train_ds) 32, len(train_loader) 16, train_loader.batch_size 2, step/(len(train_ds)/train_loader.batch_size) 4/16, step/(len(train_loader) - 1) 4/15, train_loss: 0.6000 step time: 0.1044\n",
      "len(train_files) 32, len(train_ds) 32, len(train_loader) 16, train_loader.batch_size 2, step/(len(train_ds)/train_loader.batch_size) 5/16, step/(len(train_loader) - 1) 5/15, train_loss: 0.6497 step time: 0.1043\n",
      "len(train_files) 32, len(train_ds) 32, len(train_loader) 16, train_loader.batch_size 2, step/(len(train_ds)/train_loader.batch_size) 6/16, step/(len(train_loader) - 1) 6/15, train_loss: 0.6327 step time: 0.1524\n",
      "len(train_files) 32, len(train_ds) 32, len(train_loader) 16, train_loader.batch_size 2, step/(len(train_ds)/train_loader.batch_size) 7/16, step/(len(train_loader) - 1) 7/15, train_loss: 0.6470 step time: 0.1361\n",
      "len(train_files) 32, len(train_ds) 32, len(train_loader) 16, train_loader.batch_size 2, step/(len(train_ds)/train_loader.batch_size) 8/16, step/(len(train_loader) - 1) 8/15, train_loss: 0.6334 step time: 0.1430\n",
      "len(train_files) 32, len(train_ds) 32, len(train_loader) 16, train_loader.batch_size 2, step/(len(train_ds)/train_loader.batch_size) 9/16, step/(len(train_loader) - 1) 9/15, train_loss: 0.6093 step time: 0.1419\n",
      "len(train_files) 32, len(train_ds) 32, len(train_loader) 16, train_loader.batch_size 2, step/(len(train_ds)/train_loader.batch_size) 10/16, step/(len(train_loader) - 1) 10/15, train_loss: 0.6344 step time: 0.1651\n",
      "len(train_files) 32, len(train_ds) 32, len(train_loader) 16, train_loader.batch_size 2, step/(len(train_ds)/train_loader.batch_size) 11/16, step/(len(train_loader) - 1) 11/15, train_loss: 0.6078 step time: 0.1560\n",
      "len(train_files) 32, len(train_ds) 32, len(train_loader) 16, train_loader.batch_size 2, step/(len(train_ds)/train_loader.batch_size) 12/16, step/(len(train_loader) - 1) 12/15, train_loss: 0.6511 step time: 0.1615\n",
      "len(train_files) 32, len(train_ds) 32, len(train_loader) 16, train_loader.batch_size 2, step/(len(train_ds)/train_loader.batch_size) 13/16, step/(len(train_loader) - 1) 13/15, train_loss: 0.6194 step time: 0.1597\n",
      "len(train_files) 32, len(train_ds) 32, len(train_loader) 16, train_loader.batch_size 2, step/(len(train_ds)/train_loader.batch_size) 14/16, step/(len(train_loader) - 1) 14/15, train_loss: 0.6490 step time: 0.1290\n",
      "len(train_files) 32, len(train_ds) 32, len(train_loader) 16, train_loader.batch_size 2, step/(len(train_ds)/train_loader.batch_size) 15/16, step/(len(train_loader) - 1) 15/15, train_loss: 0.5955 step time: 0.1048\n",
      "len(train_files) 32, len(train_ds) 32, len(train_loader) 16, train_loader.batch_size 2, step/(len(train_ds)/train_loader.batch_size) 16/16, step/(len(train_loader) - 1) 16/15, train_loss: 0.6070 step time: 0.1022\n",
      "epoch 3 average loss: 0.6229\n",
      "saved new best metric model\n",
      "current epoch: 3 current mean dice: 0.4114 best mean dice: 0.4114 at epoch: 3\n",
      "time of epoch 3 is: 90.0985\n",
      "train completed, best_metric: 0.4114 at epoch: 3 total time: 339.2561\n",
      "total training time of 3 epochs with regular Dataset: 339.2561\n"
     ]
    }
   ],
   "source": [
    "set_determinism(seed=0)\n",
    "train_trans, val_trans = transformations()\n",
    "train_ds = Dataset(data=train_files, transform=train_trans)\n",
    "val_ds = Dataset(data=val_files, transform=val_trans)\n",
    "\n",
    "(\n",
    "    max_epochs,\n",
    "    total_time,\n",
    "    epoch_loss_values,\n",
    "    metric_values,\n",
    "    epoch_times,\n",
    ") = train_process(train_ds, val_ds)\n",
    "print(\n",
    "    f\"total training time of {max_epochs} epochs\"\n",
    "    f\" with regular Dataset: {total_time:.4f}\"\n",
    ")"
   ]
  },
  {
   "cell_type": "markdown",
   "metadata": {
    "id": "SP4AT-N1CYBq"
   },
   "source": [
    "## Enable deterministic training and `PersistentDataset`\n",
    "\n",
    "Use persistent storage of non-random transformed training and validation data computed once and stored in persistently across runs"
   ]
  },
  {
   "cell_type": "code",
   "execution_count": 10,
   "metadata": {
    "colab": {
     "base_uri": "https://localhost:8080/"
    },
    "id": "sbb9y3oMCYBq",
    "outputId": "ee3794ac-e5cd-441f-c5cf-40d2709a2e72",
    "tags": []
   },
   "outputs": [
    {
     "name": "stdout",
     "output_type": "stream",
     "text": [
      "----------\n",
      "epoch 1/3\n",
      "len(train_files) 32, len(train_ds) 32, len(train_loader) 16, train_loader.batch_size 2, step/(len(train_ds)/train_loader.batch_size) 1/16, step/(len(train_loader) - 1) 1/15, train_loss: 0.6664 step time: 0.1306\n",
      "len(train_files) 32, len(train_ds) 32, len(train_loader) 16, train_loader.batch_size 2, step/(len(train_ds)/train_loader.batch_size) 2/16, step/(len(train_loader) - 1) 2/15, train_loss: 0.6870 step time: 0.1039\n",
      "len(train_files) 32, len(train_ds) 32, len(train_loader) 16, train_loader.batch_size 2, step/(len(train_ds)/train_loader.batch_size) 3/16, step/(len(train_loader) - 1) 3/15, train_loss: 0.6711 step time: 0.1233\n",
      "len(train_files) 32, len(train_ds) 32, len(train_loader) 16, train_loader.batch_size 2, step/(len(train_ds)/train_loader.batch_size) 4/16, step/(len(train_loader) - 1) 4/15, train_loss: 0.6910 step time: 0.1046\n",
      "len(train_files) 32, len(train_ds) 32, len(train_loader) 16, train_loader.batch_size 2, step/(len(train_ds)/train_loader.batch_size) 5/16, step/(len(train_loader) - 1) 5/15, train_loss: 0.6883 step time: 0.1386\n",
      "len(train_files) 32, len(train_ds) 32, len(train_loader) 16, train_loader.batch_size 2, step/(len(train_ds)/train_loader.batch_size) 6/16, step/(len(train_loader) - 1) 6/15, train_loss: 0.6835 step time: 0.1475\n",
      "len(train_files) 32, len(train_ds) 32, len(train_loader) 16, train_loader.batch_size 2, step/(len(train_ds)/train_loader.batch_size) 7/16, step/(len(train_loader) - 1) 7/15, train_loss: 0.6729 step time: 0.1467\n",
      "len(train_files) 32, len(train_ds) 32, len(train_loader) 16, train_loader.batch_size 2, step/(len(train_ds)/train_loader.batch_size) 8/16, step/(len(train_loader) - 1) 8/15, train_loss: 0.6791 step time: 0.1286\n",
      "len(train_files) 32, len(train_ds) 32, len(train_loader) 16, train_loader.batch_size 2, step/(len(train_ds)/train_loader.batch_size) 9/16, step/(len(train_loader) - 1) 9/15, train_loss: 0.6724 step time: 0.1359\n",
      "len(train_files) 32, len(train_ds) 32, len(train_loader) 16, train_loader.batch_size 2, step/(len(train_ds)/train_loader.batch_size) 10/16, step/(len(train_loader) - 1) 10/15, train_loss: 0.6523 step time: 0.1040\n",
      "len(train_files) 32, len(train_ds) 32, len(train_loader) 16, train_loader.batch_size 2, step/(len(train_ds)/train_loader.batch_size) 11/16, step/(len(train_loader) - 1) 11/15, train_loss: 0.6623 step time: 0.1506\n",
      "len(train_files) 32, len(train_ds) 32, len(train_loader) 16, train_loader.batch_size 2, step/(len(train_ds)/train_loader.batch_size) 12/16, step/(len(train_loader) - 1) 12/15, train_loss: 0.6840 step time: 0.1045\n",
      "len(train_files) 32, len(train_ds) 32, len(train_loader) 16, train_loader.batch_size 2, step/(len(train_ds)/train_loader.batch_size) 13/16, step/(len(train_loader) - 1) 13/15, train_loss: 0.6309 step time: 0.1419\n",
      "len(train_files) 32, len(train_ds) 32, len(train_loader) 16, train_loader.batch_size 2, step/(len(train_ds)/train_loader.batch_size) 14/16, step/(len(train_loader) - 1) 14/15, train_loss: 0.6648 step time: 0.1035\n",
      "len(train_files) 32, len(train_ds) 32, len(train_loader) 16, train_loader.batch_size 2, step/(len(train_ds)/train_loader.batch_size) 15/16, step/(len(train_loader) - 1) 15/15, train_loss: 0.6668 step time: 0.1041\n",
      "len(train_files) 32, len(train_ds) 32, len(train_loader) 16, train_loader.batch_size 2, step/(len(train_ds)/train_loader.batch_size) 16/16, step/(len(train_loader) - 1) 16/15, train_loss: 0.6736 step time: 0.1040\n",
      "epoch 1 average loss: 0.6716\n",
      "saved new best metric model\n",
      "current epoch: 1 current mean dice: 0.1482 best mean dice: 0.1482 at epoch: 1\n",
      "time of epoch 1 is: 96.9373\n",
      "----------\n",
      "epoch 2/3\n",
      "len(train_files) 32, len(train_ds) 32, len(train_loader) 16, train_loader.batch_size 2, step/(len(train_ds)/train_loader.batch_size) 1/16, step/(len(train_loader) - 1) 1/15, train_loss: 0.6253 step time: 0.1051\n",
      "len(train_files) 32, len(train_ds) 32, len(train_loader) 16, train_loader.batch_size 2, step/(len(train_ds)/train_loader.batch_size) 2/16, step/(len(train_loader) - 1) 2/15, train_loss: 0.6539 step time: 0.0998\n",
      "len(train_files) 32, len(train_ds) 32, len(train_loader) 16, train_loader.batch_size 2, step/(len(train_ds)/train_loader.batch_size) 3/16, step/(len(train_loader) - 1) 3/15, train_loss: 0.6717 step time: 0.0991\n",
      "len(train_files) 32, len(train_ds) 32, len(train_loader) 16, train_loader.batch_size 2, step/(len(train_ds)/train_loader.batch_size) 4/16, step/(len(train_loader) - 1) 4/15, train_loss: 0.6394 step time: 0.0987\n",
      "len(train_files) 32, len(train_ds) 32, len(train_loader) 16, train_loader.batch_size 2, step/(len(train_ds)/train_loader.batch_size) 5/16, step/(len(train_loader) - 1) 5/15, train_loss: 0.6723 step time: 0.0942\n",
      "len(train_files) 32, len(train_ds) 32, len(train_loader) 16, train_loader.batch_size 2, step/(len(train_ds)/train_loader.batch_size) 6/16, step/(len(train_loader) - 1) 6/15, train_loss: 0.6352 step time: 0.0950\n",
      "len(train_files) 32, len(train_ds) 32, len(train_loader) 16, train_loader.batch_size 2, step/(len(train_ds)/train_loader.batch_size) 7/16, step/(len(train_loader) - 1) 7/15, train_loss: 0.6687 step time: 0.0927\n",
      "len(train_files) 32, len(train_ds) 32, len(train_loader) 16, train_loader.batch_size 2, step/(len(train_ds)/train_loader.batch_size) 8/16, step/(len(train_loader) - 1) 8/15, train_loss: 0.6142 step time: 0.1217\n",
      "len(train_files) 32, len(train_ds) 32, len(train_loader) 16, train_loader.batch_size 2, step/(len(train_ds)/train_loader.batch_size) 9/16, step/(len(train_loader) - 1) 9/15, train_loss: 0.6219 step time: 0.1303\n",
      "len(train_files) 32, len(train_ds) 32, len(train_loader) 16, train_loader.batch_size 2, step/(len(train_ds)/train_loader.batch_size) 10/16, step/(len(train_loader) - 1) 10/15, train_loss: 0.5881 step time: 0.1135\n",
      "len(train_files) 32, len(train_ds) 32, len(train_loader) 16, train_loader.batch_size 2, step/(len(train_ds)/train_loader.batch_size) 11/16, step/(len(train_loader) - 1) 11/15, train_loss: 0.6452 step time: 0.1283\n",
      "len(train_files) 32, len(train_ds) 32, len(train_loader) 16, train_loader.batch_size 2, step/(len(train_ds)/train_loader.batch_size) 12/16, step/(len(train_loader) - 1) 12/15, train_loss: 0.6547 step time: 0.1445\n",
      "len(train_files) 32, len(train_ds) 32, len(train_loader) 16, train_loader.batch_size 2, step/(len(train_ds)/train_loader.batch_size) 13/16, step/(len(train_loader) - 1) 13/15, train_loss: 0.6428 step time: 0.1173\n",
      "len(train_files) 32, len(train_ds) 32, len(train_loader) 16, train_loader.batch_size 2, step/(len(train_ds)/train_loader.batch_size) 14/16, step/(len(train_loader) - 1) 14/15, train_loss: 0.6339 step time: 0.0937\n",
      "len(train_files) 32, len(train_ds) 32, len(train_loader) 16, train_loader.batch_size 2, step/(len(train_ds)/train_loader.batch_size) 15/16, step/(len(train_loader) - 1) 15/15, train_loss: 0.6509 step time: 0.0935\n",
      "len(train_files) 32, len(train_ds) 32, len(train_loader) 16, train_loader.batch_size 2, step/(len(train_ds)/train_loader.batch_size) 16/16, step/(len(train_loader) - 1) 16/15, train_loss: 0.6119 step time: 0.0937\n",
      "epoch 2 average loss: 0.6394\n",
      "saved new best metric model\n",
      "current epoch: 2 current mean dice: 0.3708 best mean dice: 0.3708 at epoch: 2\n",
      "time of epoch 2 is: 9.0451\n",
      "----------\n",
      "epoch 3/3\n",
      "len(train_files) 32, len(train_ds) 32, len(train_loader) 16, train_loader.batch_size 2, step/(len(train_ds)/train_loader.batch_size) 1/16, step/(len(train_loader) - 1) 1/15, train_loss: 0.5883 step time: 0.1053\n",
      "len(train_files) 32, len(train_ds) 32, len(train_loader) 16, train_loader.batch_size 2, step/(len(train_ds)/train_loader.batch_size) 2/16, step/(len(train_loader) - 1) 2/15, train_loss: 0.6122 step time: 0.0995\n",
      "len(train_files) 32, len(train_ds) 32, len(train_loader) 16, train_loader.batch_size 2, step/(len(train_ds)/train_loader.batch_size) 3/16, step/(len(train_loader) - 1) 3/15, train_loss: 0.6292 step time: 0.0988\n",
      "len(train_files) 32, len(train_ds) 32, len(train_loader) 16, train_loader.batch_size 2, step/(len(train_ds)/train_loader.batch_size) 4/16, step/(len(train_loader) - 1) 4/15, train_loss: 0.6000 step time: 0.0973\n",
      "len(train_files) 32, len(train_ds) 32, len(train_loader) 16, train_loader.batch_size 2, step/(len(train_ds)/train_loader.batch_size) 5/16, step/(len(train_loader) - 1) 5/15, train_loss: 0.6497 step time: 0.1563\n",
      "len(train_files) 32, len(train_ds) 32, len(train_loader) 16, train_loader.batch_size 2, step/(len(train_ds)/train_loader.batch_size) 6/16, step/(len(train_loader) - 1) 6/15, train_loss: 0.6327 step time: 0.1621\n",
      "len(train_files) 32, len(train_ds) 32, len(train_loader) 16, train_loader.batch_size 2, step/(len(train_ds)/train_loader.batch_size) 7/16, step/(len(train_loader) - 1) 7/15, train_loss: 0.6470 step time: 0.1442\n",
      "len(train_files) 32, len(train_ds) 32, len(train_loader) 16, train_loader.batch_size 2, step/(len(train_ds)/train_loader.batch_size) 8/16, step/(len(train_loader) - 1) 8/15, train_loss: 0.6334 step time: 0.1449\n",
      "len(train_files) 32, len(train_ds) 32, len(train_loader) 16, train_loader.batch_size 2, step/(len(train_ds)/train_loader.batch_size) 9/16, step/(len(train_loader) - 1) 9/15, train_loss: 0.6093 step time: 0.1217\n",
      "len(train_files) 32, len(train_ds) 32, len(train_loader) 16, train_loader.batch_size 2, step/(len(train_ds)/train_loader.batch_size) 10/16, step/(len(train_loader) - 1) 10/15, train_loss: 0.6344 step time: 0.0933\n",
      "len(train_files) 32, len(train_ds) 32, len(train_loader) 16, train_loader.batch_size 2, step/(len(train_ds)/train_loader.batch_size) 11/16, step/(len(train_loader) - 1) 11/15, train_loss: 0.6078 step time: 0.1483\n",
      "len(train_files) 32, len(train_ds) 32, len(train_loader) 16, train_loader.batch_size 2, step/(len(train_ds)/train_loader.batch_size) 12/16, step/(len(train_loader) - 1) 12/15, train_loss: 0.6511 step time: 0.1711\n",
      "len(train_files) 32, len(train_ds) 32, len(train_loader) 16, train_loader.batch_size 2, step/(len(train_ds)/train_loader.batch_size) 13/16, step/(len(train_loader) - 1) 13/15, train_loss: 0.6194 step time: 0.1342\n",
      "len(train_files) 32, len(train_ds) 32, len(train_loader) 16, train_loader.batch_size 2, step/(len(train_ds)/train_loader.batch_size) 14/16, step/(len(train_loader) - 1) 14/15, train_loss: 0.6490 step time: 0.0941\n",
      "len(train_files) 32, len(train_ds) 32, len(train_loader) 16, train_loader.batch_size 2, step/(len(train_ds)/train_loader.batch_size) 15/16, step/(len(train_loader) - 1) 15/15, train_loss: 0.5955 step time: 0.0929\n",
      "len(train_files) 32, len(train_ds) 32, len(train_loader) 16, train_loader.batch_size 2, step/(len(train_ds)/train_loader.batch_size) 16/16, step/(len(train_loader) - 1) 16/15, train_loss: 0.6070 step time: 0.0954\n",
      "epoch 3 average loss: 0.6229\n",
      "saved new best metric model\n",
      "current epoch: 3 current mean dice: 0.4114 best mean dice: 0.4114 at epoch: 3\n",
      "time of epoch 3 is: 9.1040\n",
      "train completed, best_metric: 0.4114 at epoch: 3 total time: 115.0865\n",
      "total training time of 3 epochs with persistent storage Dataset: 115.0865\n"
     ]
    }
   ],
   "source": [
    "persistent_cache = pathlib.Path(root_dir, \"persistent_cache\")\n",
    "persistent_cache.mkdir(parents=True, exist_ok=True)\n",
    "\n",
    "set_determinism(seed=0)\n",
    "train_trans, val_trans = transformations()\n",
    "train_persitence_ds = PersistentDataset(\n",
    "    data=train_files, transform=train_trans, cache_dir=persistent_cache\n",
    ")\n",
    "val_persitence_ds = PersistentDataset(\n",
    "    data=val_files, transform=val_trans, cache_dir=persistent_cache\n",
    ")\n",
    "\n",
    "(\n",
    "    persistence_epoch_num,\n",
    "    persistence_total_time,\n",
    "    persistence_epoch_loss_values,\n",
    "    persistence_metric_values,\n",
    "    persistence_epoch_times,\n",
    ") = train_process(train_persitence_ds, val_persitence_ds)\n",
    "print(\n",
    "    f\"total training time of {persistence_epoch_num}\"\n",
    "    f\" epochs with persistent storage Dataset: {persistence_total_time:.4f}\"\n",
    ")"
   ]
  },
  {
   "cell_type": "markdown",
   "metadata": {
    "id": "JnJ_zpQmCYBq"
   },
   "source": [
    "## Enable deterministic training and `CacheDataset`\n",
    "\n",
    "Precompute all non-random transforms of original data and store in memory."
   ]
  },
  {
   "cell_type": "code",
   "execution_count": 11,
   "metadata": {
    "colab": {
     "base_uri": "https://localhost:8080/"
    },
    "id": "z7D-x3WbCYBr",
    "outputId": "3771df6c-7aa5-4668-b8cb-13af10e06b97"
   },
   "outputs": [
    {
     "name": "stderr",
     "output_type": "stream",
     "text": [
      "Loading dataset: 100%|██████████| 6/6 [00:11<00:00,  1.90s/it]\n",
      "Loading dataset: 100%|██████████| 9/9 [00:20<00:00,  2.30s/it]"
     ]
    },
    {
     "name": "stdout",
     "output_type": "stream",
     "text": [
      "----------\n",
      "epoch 1/3\n"
     ]
    },
    {
     "name": "stderr",
     "output_type": "stream",
     "text": [
      "\n"
     ]
    },
    {
     "name": "stdout",
     "output_type": "stream",
     "text": [
      "len(train_files) 32, len(train_ds) 32, len(train_loader) 16, train_loader.batch_size 2, step/(len(train_ds)/train_loader.batch_size) 1/16, step/(len(train_loader) - 1) 1/15, train_loss: 0.6664 step time: 0.1071\n",
      "len(train_files) 32, len(train_ds) 32, len(train_loader) 16, train_loader.batch_size 2, step/(len(train_ds)/train_loader.batch_size) 2/16, step/(len(train_loader) - 1) 2/15, train_loss: 0.6870 step time: 0.1047\n",
      "len(train_files) 32, len(train_ds) 32, len(train_loader) 16, train_loader.batch_size 2, step/(len(train_ds)/train_loader.batch_size) 3/16, step/(len(train_loader) - 1) 3/15, train_loss: 0.6711 step time: 0.1665\n",
      "len(train_files) 32, len(train_ds) 32, len(train_loader) 16, train_loader.batch_size 2, step/(len(train_ds)/train_loader.batch_size) 4/16, step/(len(train_loader) - 1) 4/15, train_loss: 0.6910 step time: 0.1314\n",
      "len(train_files) 32, len(train_ds) 32, len(train_loader) 16, train_loader.batch_size 2, step/(len(train_ds)/train_loader.batch_size) 5/16, step/(len(train_loader) - 1) 5/15, train_loss: 0.6883 step time: 0.1050\n",
      "len(train_files) 32, len(train_ds) 32, len(train_loader) 16, train_loader.batch_size 2, step/(len(train_ds)/train_loader.batch_size) 6/16, step/(len(train_loader) - 1) 6/15, train_loss: 0.6835 step time: 0.0975\n",
      "len(train_files) 32, len(train_ds) 32, len(train_loader) 16, train_loader.batch_size 2, step/(len(train_ds)/train_loader.batch_size) 7/16, step/(len(train_loader) - 1) 7/15, train_loss: 0.6729 step time: 0.1043\n",
      "len(train_files) 32, len(train_ds) 32, len(train_loader) 16, train_loader.batch_size 2, step/(len(train_ds)/train_loader.batch_size) 8/16, step/(len(train_loader) - 1) 8/15, train_loss: 0.6791 step time: 0.1041\n",
      "len(train_files) 32, len(train_ds) 32, len(train_loader) 16, train_loader.batch_size 2, step/(len(train_ds)/train_loader.batch_size) 9/16, step/(len(train_loader) - 1) 9/15, train_loss: 0.6724 step time: 0.1613\n",
      "len(train_files) 32, len(train_ds) 32, len(train_loader) 16, train_loader.batch_size 2, step/(len(train_ds)/train_loader.batch_size) 10/16, step/(len(train_loader) - 1) 10/15, train_loss: 0.6523 step time: 0.1042\n",
      "len(train_files) 32, len(train_ds) 32, len(train_loader) 16, train_loader.batch_size 2, step/(len(train_ds)/train_loader.batch_size) 11/16, step/(len(train_loader) - 1) 11/15, train_loss: 0.6623 step time: 0.1115\n",
      "len(train_files) 32, len(train_ds) 32, len(train_loader) 16, train_loader.batch_size 2, step/(len(train_ds)/train_loader.batch_size) 12/16, step/(len(train_loader) - 1) 12/15, train_loss: 0.6840 step time: 0.1495\n",
      "len(train_files) 32, len(train_ds) 32, len(train_loader) 16, train_loader.batch_size 2, step/(len(train_ds)/train_loader.batch_size) 13/16, step/(len(train_loader) - 1) 13/15, train_loss: 0.6309 step time: 0.1467\n",
      "len(train_files) 32, len(train_ds) 32, len(train_loader) 16, train_loader.batch_size 2, step/(len(train_ds)/train_loader.batch_size) 14/16, step/(len(train_loader) - 1) 14/15, train_loss: 0.6648 step time: 0.1028\n",
      "len(train_files) 32, len(train_ds) 32, len(train_loader) 16, train_loader.batch_size 2, step/(len(train_ds)/train_loader.batch_size) 15/16, step/(len(train_loader) - 1) 15/15, train_loss: 0.6668 step time: 0.1038\n",
      "len(train_files) 32, len(train_ds) 32, len(train_loader) 16, train_loader.batch_size 2, step/(len(train_ds)/train_loader.batch_size) 16/16, step/(len(train_loader) - 1) 16/15, train_loss: 0.6736 step time: 0.1042\n",
      "epoch 1 average loss: 0.6716\n",
      "saved new best metric model\n",
      "current epoch: 1 current mean dice: 0.1482 best mean dice: 0.1482 at epoch: 1\n",
      "time of epoch 1 is: 69.0001\n",
      "----------\n",
      "epoch 2/3\n",
      "len(train_files) 32, len(train_ds) 32, len(train_loader) 16, train_loader.batch_size 2, step/(len(train_ds)/train_loader.batch_size) 1/16, step/(len(train_loader) - 1) 1/15, train_loss: 0.6253 step time: 0.1544\n",
      "len(train_files) 32, len(train_ds) 32, len(train_loader) 16, train_loader.batch_size 2, step/(len(train_ds)/train_loader.batch_size) 2/16, step/(len(train_loader) - 1) 2/15, train_loss: 0.6539 step time: 0.1039\n",
      "len(train_files) 32, len(train_ds) 32, len(train_loader) 16, train_loader.batch_size 2, step/(len(train_ds)/train_loader.batch_size) 3/16, step/(len(train_loader) - 1) 3/15, train_loss: 0.6717 step time: 0.0985\n",
      "len(train_files) 32, len(train_ds) 32, len(train_loader) 16, train_loader.batch_size 2, step/(len(train_ds)/train_loader.batch_size) 4/16, step/(len(train_loader) - 1) 4/15, train_loss: 0.6394 step time: 0.1396\n",
      "len(train_files) 32, len(train_ds) 32, len(train_loader) 16, train_loader.batch_size 2, step/(len(train_ds)/train_loader.batch_size) 5/16, step/(len(train_loader) - 1) 5/15, train_loss: 0.6723 step time: 0.1708\n",
      "len(train_files) 32, len(train_ds) 32, len(train_loader) 16, train_loader.batch_size 2, step/(len(train_ds)/train_loader.batch_size) 6/16, step/(len(train_loader) - 1) 6/15, train_loss: 0.6352 step time: 0.1502\n",
      "len(train_files) 32, len(train_ds) 32, len(train_loader) 16, train_loader.batch_size 2, step/(len(train_ds)/train_loader.batch_size) 7/16, step/(len(train_loader) - 1) 7/15, train_loss: 0.6687 step time: 0.1708\n",
      "len(train_files) 32, len(train_ds) 32, len(train_loader) 16, train_loader.batch_size 2, step/(len(train_ds)/train_loader.batch_size) 8/16, step/(len(train_loader) - 1) 8/15, train_loss: 0.6142 step time: 0.1044\n",
      "len(train_files) 32, len(train_ds) 32, len(train_loader) 16, train_loader.batch_size 2, step/(len(train_ds)/train_loader.batch_size) 9/16, step/(len(train_loader) - 1) 9/15, train_loss: 0.6219 step time: 0.1645\n",
      "len(train_files) 32, len(train_ds) 32, len(train_loader) 16, train_loader.batch_size 2, step/(len(train_ds)/train_loader.batch_size) 10/16, step/(len(train_loader) - 1) 10/15, train_loss: 0.5881 step time: 0.1518\n",
      "len(train_files) 32, len(train_ds) 32, len(train_loader) 16, train_loader.batch_size 2, step/(len(train_ds)/train_loader.batch_size) 11/16, step/(len(train_loader) - 1) 11/15, train_loss: 0.6452 step time: 0.1054\n",
      "len(train_files) 32, len(train_ds) 32, len(train_loader) 16, train_loader.batch_size 2, step/(len(train_ds)/train_loader.batch_size) 12/16, step/(len(train_loader) - 1) 12/15, train_loss: 0.6547 step time: 0.1002\n",
      "len(train_files) 32, len(train_ds) 32, len(train_loader) 16, train_loader.batch_size 2, step/(len(train_ds)/train_loader.batch_size) 13/16, step/(len(train_loader) - 1) 13/15, train_loss: 0.6428 step time: 0.1038\n",
      "len(train_files) 32, len(train_ds) 32, len(train_loader) 16, train_loader.batch_size 2, step/(len(train_ds)/train_loader.batch_size) 14/16, step/(len(train_loader) - 1) 14/15, train_loss: 0.6339 step time: 0.1034\n",
      "len(train_files) 32, len(train_ds) 32, len(train_loader) 16, train_loader.batch_size 2, step/(len(train_ds)/train_loader.batch_size) 15/16, step/(len(train_loader) - 1) 15/15, train_loss: 0.6509 step time: 0.1033\n",
      "len(train_files) 32, len(train_ds) 32, len(train_loader) 16, train_loader.batch_size 2, step/(len(train_ds)/train_loader.batch_size) 16/16, step/(len(train_loader) - 1) 16/15, train_loss: 0.6119 step time: 0.1035\n",
      "epoch 2 average loss: 0.6394\n",
      "saved new best metric model\n",
      "current epoch: 2 current mean dice: 0.3708 best mean dice: 0.3708 at epoch: 2\n",
      "time of epoch 2 is: 69.0761\n",
      "----------\n",
      "epoch 3/3\n",
      "len(train_files) 32, len(train_ds) 32, len(train_loader) 16, train_loader.batch_size 2, step/(len(train_ds)/train_loader.batch_size) 1/16, step/(len(train_loader) - 1) 1/15, train_loss: 0.5883 step time: 0.1498\n",
      "len(train_files) 32, len(train_ds) 32, len(train_loader) 16, train_loader.batch_size 2, step/(len(train_ds)/train_loader.batch_size) 2/16, step/(len(train_loader) - 1) 2/15, train_loss: 0.6122 step time: 0.1529\n",
      "len(train_files) 32, len(train_ds) 32, len(train_loader) 16, train_loader.batch_size 2, step/(len(train_ds)/train_loader.batch_size) 3/16, step/(len(train_loader) - 1) 3/15, train_loss: 0.6292 step time: 0.1572\n",
      "len(train_files) 32, len(train_ds) 32, len(train_loader) 16, train_loader.batch_size 2, step/(len(train_ds)/train_loader.batch_size) 4/16, step/(len(train_loader) - 1) 4/15, train_loss: 0.6000 step time: 0.1598\n",
      "len(train_files) 32, len(train_ds) 32, len(train_loader) 16, train_loader.batch_size 2, step/(len(train_ds)/train_loader.batch_size) 5/16, step/(len(train_loader) - 1) 5/15, train_loss: 0.6497 step time: 0.1034\n",
      "len(train_files) 32, len(train_ds) 32, len(train_loader) 16, train_loader.batch_size 2, step/(len(train_ds)/train_loader.batch_size) 6/16, step/(len(train_loader) - 1) 6/15, train_loss: 0.6327 step time: 0.1430\n",
      "len(train_files) 32, len(train_ds) 32, len(train_loader) 16, train_loader.batch_size 2, step/(len(train_ds)/train_loader.batch_size) 7/16, step/(len(train_loader) - 1) 7/15, train_loss: 0.6470 step time: 0.1795\n",
      "len(train_files) 32, len(train_ds) 32, len(train_loader) 16, train_loader.batch_size 2, step/(len(train_ds)/train_loader.batch_size) 8/16, step/(len(train_loader) - 1) 8/15, train_loss: 0.6334 step time: 0.1543\n",
      "len(train_files) 32, len(train_ds) 32, len(train_loader) 16, train_loader.batch_size 2, step/(len(train_ds)/train_loader.batch_size) 9/16, step/(len(train_loader) - 1) 9/15, train_loss: 0.6093 step time: 0.1406\n",
      "len(train_files) 32, len(train_ds) 32, len(train_loader) 16, train_loader.batch_size 2, step/(len(train_ds)/train_loader.batch_size) 10/16, step/(len(train_loader) - 1) 10/15, train_loss: 0.6344 step time: 0.1523\n",
      "len(train_files) 32, len(train_ds) 32, len(train_loader) 16, train_loader.batch_size 2, step/(len(train_ds)/train_loader.batch_size) 11/16, step/(len(train_loader) - 1) 11/15, train_loss: 0.6078 step time: 0.1269\n",
      "len(train_files) 32, len(train_ds) 32, len(train_loader) 16, train_loader.batch_size 2, step/(len(train_ds)/train_loader.batch_size) 12/16, step/(len(train_loader) - 1) 12/15, train_loss: 0.6511 step time: 0.1447\n",
      "len(train_files) 32, len(train_ds) 32, len(train_loader) 16, train_loader.batch_size 2, step/(len(train_ds)/train_loader.batch_size) 13/16, step/(len(train_loader) - 1) 13/15, train_loss: 0.6194 step time: 0.1392\n",
      "len(train_files) 32, len(train_ds) 32, len(train_loader) 16, train_loader.batch_size 2, step/(len(train_ds)/train_loader.batch_size) 14/16, step/(len(train_loader) - 1) 14/15, train_loss: 0.6490 step time: 0.1341\n",
      "len(train_files) 32, len(train_ds) 32, len(train_loader) 16, train_loader.batch_size 2, step/(len(train_ds)/train_loader.batch_size) 15/16, step/(len(train_loader) - 1) 15/15, train_loss: 0.5955 step time: 0.1035\n",
      "len(train_files) 32, len(train_ds) 32, len(train_loader) 16, train_loader.batch_size 2, step/(len(train_ds)/train_loader.batch_size) 16/16, step/(len(train_loader) - 1) 16/15, train_loss: 0.6070 step time: 0.1035\n",
      "epoch 3 average loss: 0.6229\n",
      "saved new best metric model\n",
      "current epoch: 3 current mean dice: 0.4114 best mean dice: 0.4114 at epoch: 3\n",
      "time of epoch 3 is: 72.7041\n",
      "train completed, best_metric: 0.4114 at epoch: 3 total time: 210.7803\n",
      "total training time of 3 epochs with CacheDataset: 210.7803\n"
     ]
    }
   ],
   "source": [
    "set_determinism(seed=0)\n",
    "train_trans, val_trans = transformations()\n",
    "cache_init_start = time.time()\n",
    "cache_train_ds = CacheDataset(\n",
    "    # data=train_files, transform=train_trans, cache_rate=1.0, num_workers=2\n",
    "    data=train_files, transform=train_trans, cache_rate=0.2, num_workers=2\n",
    ")\n",
    "cache_val_ds = CacheDataset(\n",
    "    data=val_files, transform=val_trans, cache_rate=1.0, num_workers=2\n",
    ")\n",
    "cache_init_time = time.time() - cache_init_start\n",
    "\n",
    "(\n",
    "    cache_epoch_num,\n",
    "    cache_total_time,\n",
    "    cache_epoch_loss_values,\n",
    "    cache_metric_values,\n",
    "    cache_epoch_times,\n",
    ") = train_process(cache_train_ds, cache_val_ds)\n",
    "print(\n",
    "    f\"total training time of {cache_epoch_num}\"\n",
    "    f\" epochs with CacheDataset: {cache_total_time:.4f}\"\n",
    ")"
   ]
  },
  {
   "cell_type": "markdown",
   "metadata": {
    "id": "JKkndVitK_bf"
   },
   "source": []
  },
  {
   "cell_type": "markdown",
   "metadata": {
    "id": "VolLBh4uK_2E"
   },
   "source": [
    "## Enable deterministic training and `SmartCacheDataset`\n",
    "The usage of SmartCacheDataset contains 4 steps:\n",
    "  1. Initialize SmartCacheDataset object and cache for the first epoch.\n",
    "  2. Call start() to run replacement thread in background.\n",
    "  3. Call update_cache() before every epoch to replace training items.\n",
    "  4. Call shutdown() when training ends."
   ]
  },
  {
   "cell_type": "code",
   "execution_count": 12,
   "metadata": {
    "id": "8-S1ugreTg8R"
   },
   "outputs": [],
   "source": [
    "def train_process_smartcache(train_ds, val_ds):\n",
    "    # use batch_size=2 to load images and use RandCropByPosNegLabeld\n",
    "    # to generate 2 x 4 images for network training\n",
    "    train_loader = DataLoader(\n",
    "        train_ds,\n",
    "        batch_size=2,\n",
    "        # batch_size=1,\n",
    "        shuffle=True,\n",
    "        num_workers=2,\n",
    "    )\n",
    "    val_loader = DataLoader(\n",
    "        val_ds, batch_size=1, num_workers=2\n",
    "    )\n",
    "    device = torch.device(\"cuda:0\")\n",
    "    model = UNet(\n",
    "        spatial_dims=3,\n",
    "        in_channels=1,\n",
    "        out_channels=2,\n",
    "        channels=(16, 32, 64, 128, 256),\n",
    "        strides=(2, 2, 2, 2),\n",
    "        num_res_units=2,\n",
    "        norm=Norm.BATCH,\n",
    "    ).to(device)\n",
    "    loss_function = DiceLoss(to_onehot_y=True, softmax=True)\n",
    "    optimizer = torch.optim.Adam(model.parameters(), 1e-4)\n",
    "\n",
    "    post_pred = Compose([AsDiscrete(argmax=True, to_onehot=2)])\n",
    "    post_label = Compose([AsDiscrete(to_onehot=2)])\n",
    "\n",
    "    dice_metric = DiceMetric(include_background=True, reduction=\"mean\", get_not_nans=False)\n",
    "\n",
    "    max_epochs = 3\n",
    "    val_interval = 1  # do validation for every epoch\n",
    "    best_metric = -1\n",
    "    best_metric_epoch = -1\n",
    "    epoch_loss_values = []\n",
    "    metric_values = []\n",
    "    epoch_times = []\n",
    "    total_start = time.time()\n",
    "\n",
    "    # start the replacement thread of SmartCache\n",
    "    train_ds.start()\n",
    "\n",
    "    for epoch in range(max_epochs):\n",
    "        epoch_start = time.time()\n",
    "        print(\"-\" * 10)\n",
    "        print(f\"epoch {epoch + 1}/{max_epochs}\")\n",
    "        model.train()\n",
    "        epoch_loss = 0\n",
    "        step = 0\n",
    "        for batch_data in train_loader:\n",
    "            step_start = time.time()\n",
    "            step += 1\n",
    "            inputs, labels = (\n",
    "                batch_data[\"image\"].to(device),\n",
    "                batch_data[\"label\"].to(device),\n",
    "            )\n",
    "            optimizer.zero_grad()\n",
    "            outputs = model(inputs)\n",
    "            loss = loss_function(outputs, labels)\n",
    "            loss.backward()\n",
    "            optimizer.step()\n",
    "            epoch_loss += loss.item()\n",
    "            print(\n",
    "                f\"len(train_files) {len(train_files)},\"\n",
    "                f\" len(train_ds) {len(train_ds)},\"\n",
    "                f\" len(train_loader) {len(train_loader)},\"\n",
    "                f\" train_loader.batch_size {train_loader.batch_size},\"\n",
    "                f\" step/(len(train_ds)/train_loader.batch_size) {step}/{len(train_ds) // train_loader.batch_size},\"\n",
    "                f\" step/(len(train_loader) - 1) {step}/{len(train_loader) - 1},\"\n",
    "                f\" train_loss: {loss.item():.4f}\"\n",
    "                f\" step time: {(time.time() - step_start):.4f}\"\n",
    "            )\n",
    "        epoch_loss /= step\n",
    "        epoch_loss_values.append(epoch_loss)\n",
    "        print(f\"epoch {epoch + 1} average loss: {epoch_loss:.4f}\")\n",
    "        # replace % of cache content for next epoch\n",
    "        train_ds.update_cache()        \n",
    "\n",
    "        if (epoch + 1) % val_interval == 0:\n",
    "            model.eval()\n",
    "            with torch.no_grad():\n",
    "                for val_data in val_loader:\n",
    "                    val_inputs, val_labels = (\n",
    "                        val_data[\"image\"].to(device),\n",
    "                        val_data[\"label\"].to(device),\n",
    "                    )\n",
    "                    roi_size = (160, 160, 160)\n",
    "                    sw_batch_size = 4\n",
    "                    val_outputs = sliding_window_inference(\n",
    "                        val_inputs, roi_size, sw_batch_size, model\n",
    "                    )\n",
    "                    val_outputs = [post_pred(i) for i in decollate_batch(val_outputs)]\n",
    "                    val_labels = [post_label(i) for i in decollate_batch(val_labels)]\n",
    "                    dice_metric(y_pred=val_outputs, y=val_labels)\n",
    "\n",
    "                metric = dice_metric.aggregate().item()\n",
    "                dice_metric.reset()\n",
    "                metric_values.append(metric)\n",
    "                if metric > best_metric:\n",
    "                    best_metric = metric\n",
    "                    best_metric_epoch = epoch + 1\n",
    "                    torch.save(\n",
    "                        model.state_dict(),\n",
    "                        os.path.join(root_dir, \"best_metric_model.pth\"),\n",
    "                    )\n",
    "                    print(\"saved new best metric model\")\n",
    "                print(\n",
    "                    f\"current epoch: {epoch + 1} current\"\n",
    "                    f\" mean dice: {metric:.4f}\"\n",
    "                    f\" best mean dice: {best_metric:.4f}\"\n",
    "                    f\" at epoch: {best_metric_epoch}\"\n",
    "                )\n",
    "        print(\n",
    "            f\"time of epoch {epoch + 1} is: {(time.time() - epoch_start):.4f}\"\n",
    "        )\n",
    "        epoch_times.append(time.time() - epoch_start)\n",
    "\n",
    "    print(\n",
    "        f\"train completed, best_metric: {best_metric:.4f}\"\n",
    "        f\" at epoch: {best_metric_epoch}\"\n",
    "        f\" total time: {(time.time() - total_start):.4f}\"\n",
    "    )\n",
    "    # stop replacement thread of SmartCache\n",
    "    train_ds.shutdown()\n",
    "    \n",
    "    return (\n",
    "        max_epochs,\n",
    "        time.time() - total_start,\n",
    "        epoch_loss_values,\n",
    "        metric_values,\n",
    "        epoch_times,\n",
    "    )"
   ]
  },
  {
   "cell_type": "code",
   "execution_count": 13,
   "metadata": {
    "colab": {
     "base_uri": "https://localhost:8080/"
    },
    "id": "MhEgEl_1LRH1",
    "outputId": "7d57cf34-c73c-4eee-fa1d-444314223f61"
   },
   "outputs": [
    {
     "name": "stderr",
     "output_type": "stream",
     "text": [
      "Loading dataset: 100%|██████████| 6/6 [00:14<00:00,  2.40s/it]\n",
      "Loading dataset: 100%|██████████| 1/1 [00:01<00:00,  1.57s/it]"
     ]
    },
    {
     "name": "stdout",
     "output_type": "stream",
     "text": [
      "----------\n",
      "epoch 1/3\n"
     ]
    },
    {
     "name": "stderr",
     "output_type": "stream",
     "text": [
      "\n"
     ]
    },
    {
     "name": "stdout",
     "output_type": "stream",
     "text": [
      "len(train_files) 32, len(train_ds) 6, len(train_loader) 3, train_loader.batch_size 2, step/(len(train_ds)/train_loader.batch_size) 1/3, step/(len(train_loader) - 1) 1/2, train_loss: 0.6926 step time: 0.1631\n",
      "len(train_files) 32, len(train_ds) 6, len(train_loader) 3, train_loader.batch_size 2, step/(len(train_ds)/train_loader.batch_size) 2/3, step/(len(train_loader) - 1) 2/2, train_loss: 0.6921 step time: 0.1408\n",
      "len(train_files) 32, len(train_ds) 6, len(train_loader) 3, train_loader.batch_size 2, step/(len(train_ds)/train_loader.batch_size) 3/3, step/(len(train_loader) - 1) 3/2, train_loss: 0.6755 step time: 0.1906\n",
      "epoch 1 average loss: 0.6867\n",
      "saved new best metric model\n",
      "current epoch: 1 current mean dice: 0.0300 best mean dice: 0.0300 at epoch: 1\n",
      "time of epoch 1 is: 22.3302\n",
      "----------\n",
      "epoch 2/3\n",
      "len(train_files) 32, len(train_ds) 6, len(train_loader) 3, train_loader.batch_size 2, step/(len(train_ds)/train_loader.batch_size) 1/3, step/(len(train_loader) - 1) 1/2, train_loss: 0.6975 step time: 0.1232\n",
      "len(train_files) 32, len(train_ds) 6, len(train_loader) 3, train_loader.batch_size 2, step/(len(train_ds)/train_loader.batch_size) 2/3, step/(len(train_loader) - 1) 2/2, train_loss: 0.6800 step time: 0.1103\n",
      "len(train_files) 32, len(train_ds) 6, len(train_loader) 3, train_loader.batch_size 2, step/(len(train_ds)/train_loader.batch_size) 3/3, step/(len(train_loader) - 1) 3/2, train_loss: 0.6626 step time: 0.1353\n",
      "epoch 2 average loss: 0.6800\n",
      "saved new best metric model\n",
      "current epoch: 2 current mean dice: 0.0320 best mean dice: 0.0320 at epoch: 2\n",
      "time of epoch 2 is: 20.5726\n",
      "----------\n",
      "epoch 3/3\n",
      "len(train_files) 32, len(train_ds) 6, len(train_loader) 3, train_loader.batch_size 2, step/(len(train_ds)/train_loader.batch_size) 1/3, step/(len(train_loader) - 1) 1/2, train_loss: 0.6790 step time: 0.2998\n",
      "len(train_files) 32, len(train_ds) 6, len(train_loader) 3, train_loader.batch_size 2, step/(len(train_ds)/train_loader.batch_size) 2/3, step/(len(train_loader) - 1) 2/2, train_loss: 0.6893 step time: 0.2090\n",
      "len(train_files) 32, len(train_ds) 6, len(train_loader) 3, train_loader.batch_size 2, step/(len(train_ds)/train_loader.batch_size) 3/3, step/(len(train_loader) - 1) 3/2, train_loss: 0.6456 step time: 0.1443\n",
      "epoch 3 average loss: 0.6713\n",
      "saved new best metric model\n",
      "current epoch: 3 current mean dice: 0.0370 best mean dice: 0.0370 at epoch: 3\n",
      "time of epoch 3 is: 17.1374\n",
      "train completed, best_metric: 0.0370 at epoch: 3 total time: 60.0619\n",
      "total training time of 3 epochs with CacheDataset: 78.2730\n"
     ]
    }
   ],
   "source": [
    "set_determinism(seed=0)\n",
    "train_trans, val_trans = transformations()\n",
    "smartcache_init_start = time.time()\n",
    "smartcache_train_ds = SmartCacheDataset(\n",
    "    data=train_files, \n",
    "    transform=train_trans, \n",
    "    replace_rate=1.0, \n",
    "    cache_rate=0.2,\n",
    "    num_init_workers=2, \n",
    "    num_replace_workers=2,\n",
    ")\n",
    "\n",
    "smartcache_val_ds = SmartCacheDataset(\n",
    "    data=val_files, \n",
    "    transform=val_trans, \n",
    "    replace_rate=1.0, \n",
    "    cache_rate=0.2,\n",
    "    num_init_workers=2, \n",
    "    num_replace_workers=2,\n",
    ")\n",
    "smartcache_init_time = time.time() - smartcache_init_start\n",
    "\n",
    "(\n",
    "    smartcache_epoch_num,\n",
    "    smartcache_total_time,\n",
    "    smartcache_epoch_loss_values,\n",
    "    smartcache_metric_values,\n",
    "    smartcache_epoch_times,\n",
    ") = train_process_smartcache(smartcache_train_ds, smartcache_val_ds)\n",
    "print(\n",
    "    f\"total training time of {smartcache_epoch_num}\"\n",
    "    f\" epochs with CacheDataset: {smartcache_total_time:.4f}\"\n",
    ")"
   ]
  },
  {
   "cell_type": "markdown",
   "metadata": {
    "id": "WgPoizx8LQQQ"
   },
   "source": []
  },
  {
   "cell_type": "markdown",
   "metadata": {
    "id": "-bQ7T5XrCYBr"
   },
   "source": [
    "## Plot training loss and validation metrics"
   ]
  },
  {
   "cell_type": "code",
   "execution_count": 18,
   "metadata": {
    "colab": {
     "base_uri": "https://localhost:8080/",
     "height": 1000
    },
    "id": "Ts5qV8nECYBr",
    "outputId": "d3045c16-19e1-454b-cd16-eee1c2cabb18"
   },
   "outputs": [
    {
     "data": {
      "image/png": "[encoded data removed]",
      "text/plain": [
       "<Figure size 864x1296 with 8 Axes>"
      ]
     },
     "metadata": {
      "needs_background": "light"
     },
     "output_type": "display_data"
    }
   ],
   "source": [
    "plt.figure(\"train\", (12, 18))\n",
    "\n",
    "plt.subplot(4, 2, 1)\n",
    "plt.title(\"Regular Epoch Average Loss\")\n",
    "x = [i + 1 for i in range(len(epoch_loss_values))]\n",
    "y = epoch_loss_values\n",
    "plt.xlabel(\"epoch\")\n",
    "plt.grid(alpha=0.4, linestyle=\":\")\n",
    "plt.plot(x, y, color=\"red\")\n",
    "\n",
    "plt.subplot(4, 2, 2)\n",
    "plt.title(\"Regular Val Mean Dice\")\n",
    "x = [i + 1 for i in range(len(metric_values))]\n",
    "y = cache_metric_values\n",
    "plt.xlabel(\"epoch\")\n",
    "plt.grid(alpha=0.4, linestyle=\":\")\n",
    "plt.plot(x, y, color=\"red\")\n",
    "\n",
    "plt.subplot(4, 2, 3)\n",
    "plt.title(\"PersistentDataset Epoch Average Loss\")\n",
    "x = [i + 1 for i in range(len(persistence_epoch_loss_values))]\n",
    "y = persistence_epoch_loss_values\n",
    "plt.xlabel(\"epoch\")\n",
    "plt.grid(alpha=0.4, linestyle=\":\")\n",
    "plt.plot(x, y, color=\"blue\")\n",
    "\n",
    "plt.subplot(4, 2, 4)\n",
    "plt.title(\"PersistentDataset Val Mean Dice\")\n",
    "x = [i + 1 for i in range(len(persistence_metric_values))]\n",
    "y = persistence_metric_values\n",
    "plt.xlabel(\"epoch\")\n",
    "plt.grid(alpha=0.4, linestyle=\":\")\n",
    "plt.plot(x, y, color=\"blue\")\n",
    "\n",
    "plt.subplot(4, 2, 5)\n",
    "plt.title(\"CacheDataset Epoch Average Loss\")\n",
    "x = [i + 1 for i in range(len(cache_epoch_loss_values))]\n",
    "y = cache_epoch_loss_values\n",
    "plt.xlabel(\"epoch\")\n",
    "plt.grid(alpha=0.4, linestyle=\":\")\n",
    "plt.plot(x, y, color=\"green\")\n",
    "\n",
    "plt.subplot(4, 2, 6)\n",
    "plt.title(\"CacheDataset Val Mean Dice\")\n",
    "x = [i + 1 for i in range(len(cache_metric_values))]\n",
    "y = cache_metric_values\n",
    "plt.xlabel(\"epoch\")\n",
    "plt.grid(alpha=0.4, linestyle=\":\")\n",
    "plt.plot(x, y, color=\"green\")\n",
    "\n",
    "plt.subplot(4, 2, 7)\n",
    "plt.title(\"SmartCacheDataset Epoch Average Loss\")\n",
    "x = [i + 1 for i in range(len(cache_epoch_loss_values))]\n",
    "y = smartcache_epoch_loss_values\n",
    "plt.xlabel(\"epoch\")\n",
    "plt.grid(alpha=0.4, linestyle=\":\")\n",
    "plt.plot(x, y, color=\"magenta\")\n",
    "\n",
    "plt.subplot(4, 2, 8)\n",
    "plt.title(\"SmartCacheDataset Val Mean Dice\")\n",
    "x = [i + 1 for i in range(len(cache_metric_values))]\n",
    "y = smartcache_metric_values\n",
    "plt.xlabel(\"epoch\")\n",
    "plt.grid(alpha=0.4, linestyle=\":\")\n",
    "plt.plot(x, y, color=\"magenta\")\n",
    "\n",
    "plt.show()"
   ]
  },
  {
   "cell_type": "markdown",
   "metadata": {
    "id": "eOH73_8rCYBs"
   },
   "source": [
    "## Plot total time and every epoch time"
   ]
  },
  {
   "cell_type": "code",
   "execution_count": 15,
   "metadata": {
    "colab": {
     "base_uri": "https://localhost:8080/",
     "height": 404
    },
    "id": "aQS_p_jcCYBs",
    "outputId": "5eb283d3-5c15-4731-d2f8-03844c96a2d1"
   },
   "outputs": [
    {
     "data": {
      "image/png": "[encoded data removed]",
      "text/plain": [
       "<Figure size 864x432 with 2 Axes>"
      ]
     },
     "metadata": {
      "needs_background": "light"
     },
     "output_type": "display_data"
    }
   ],
   "source": [
    "plt.figure(\"train\", (12, 6))\n",
    "\n",
    "plt.subplot(1, 2, 1)\n",
    "plt.title(\"Total Train Time ({} epochs)\".format(max_epochs))\n",
    "plt.bar(\"regular\", total_time, 1, label=\"Regular Dataset\", color=\"red\")\n",
    "plt.bar(\n",
    "    \"persistent\",\n",
    "    persistence_total_time,\n",
    "    1,\n",
    "    label=\"Persistent Dataset\",\n",
    "    color=\"blue\",\n",
    ")\n",
    "plt.bar(\n",
    "    \"cache\",\n",
    "    cache_init_time + cache_total_time,\n",
    "    1,\n",
    "    label=\"Cache Dataset\",\n",
    "    color=\"green\",\n",
    ")\n",
    "plt.bar(\"cache\", cache_init_time, 1, label=\"Cache Init\", color=\"orange\")\n",
    "plt.bar(\n",
    "    \"smartcache\",\n",
    "    smartcache_total_time,\n",
    "    1,\n",
    "    label=\"SmartCache Dataset\",\n",
    "    color=\"magenta\",\n",
    ")\n",
    "plt.ylabel(\"secs\")\n",
    "plt.grid(alpha=0.4, linestyle=\":\")\n",
    "plt.legend(loc=\"best\")\n",
    "\n",
    "plt.subplot(1, 2, 2)\n",
    "plt.title(\"Epoch Time\")\n",
    "x = [i + 1 for i in range(len(epoch_times))]\n",
    "plt.xlabel(\"epoch\")\n",
    "plt.ylabel(\"secs\")\n",
    "plt.plot(x, epoch_times, label=\"Regular Dataset\", color=\"red\")\n",
    "plt.plot(x, persistence_epoch_times, label=\"Persistent Dataset\", color=\"blue\")\n",
    "plt.plot(x, cache_epoch_times, label=\"Cache Dataset\", color=\"green\")\n",
    "plt.plot(x, smartcache_epoch_times, label=\"SmartCache Dataset\", color=\"magenta\")\n",
    "plt.grid(alpha=0.4, linestyle=\":\")\n",
    "plt.legend(loc=\"best\")\n",
    "\n",
    "plt.show()"
   ]
  },
  {
   "cell_type": "markdown",
   "metadata": {
    "id": "CyFDEI8ZCYBs"
   },
   "source": [
    "## Cleanup data directory\n",
    "\n",
    "Remove directory if a temporary was used."
   ]
  },
  {
   "cell_type": "code",
   "execution_count": 16,
   "metadata": {
    "id": "M2hnxHykCYBs"
   },
   "outputs": [],
   "source": [
    "if directory is None:\n",
    "    shutil.rmtree(root_dir)"
   ]
  }
 ],
 "metadata": {
  "accelerator": "GPU",
  "colab": {
   "collapsed_sections": [],
   "provenance": []
  },
  "kernelspec": {
   "display_name": "Python 3 (ipykernel)",
   "language": "python",
   "name": "python3"
  },
  "language_info": {
   "codemirror_mode": {
    "name": "ipython",
    "version": 3
   },
   "file_extension": ".py",
   "mimetype": "text/x-python",
   "name": "python",
   "nbconvert_exporter": "python",
   "pygments_lexer": "ipython3",
   "version": "3.8.13"
  }
 },
 "nbformat": 4,
 "nbformat_minor": 4
}
