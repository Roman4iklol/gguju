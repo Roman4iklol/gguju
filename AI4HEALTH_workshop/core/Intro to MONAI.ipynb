{
 "cells": [
  {
   "cell_type": "markdown",
   "id": "c59bcba1",
   "metadata": {
    "slideshow": {
     "slide_type": "slide"
    }
   },
   "source": [
    "<center><img src=\"monai.png\"/></center>\n",
    "\n",
    "<p style=\"text-align: center\">Welcome to the MONAI bootcamp!</p>\n",
    "<p style=\"text-align: center\">This notebook will introduce you to the MONAI Core design and architecture.  You'll get some hands-on examples with transforms, dataset loaders, caching, and network.</p>"
   ]
  },
  {
   "cell_type": "markdown",
   "id": "b66a72aa",
   "metadata": {
    "slideshow": {
     "slide_type": "slide"
    }
   },
   "source": [
    "### Using Google Colab\n",
    "\n",
    "This notebook has the pip command for installing MONAI and will be added to any subsequent notebook.\n",
    "\n",
    "**Enabling GPU Support**\n",
    "\n",
    "To use GPU resources through Colab, change the runtime to GPU:\n",
    "\n",
    "1. From the **\"Runtime\"** menu select **\"Change Runtime Type\"**\n",
    "2. Choose **\"GPU\"** from the drop-down menu\n",
    "3. Click **\"SAVE\"**\n",
    "\n",
    "This will reset the notebook and probably ask you if you are a robot (these instructions assume you are not)\n",
    "\n"
   ]
  },
  {
   "cell_type": "markdown",
   "id": "002cebf0",
   "metadata": {
    "slideshow": {
     "slide_type": "slide"
    }
   },
   "source": [
    "### Verify GPU Access\n",
    "\n",
    "Running **!nvidia-smi** in a cell will verify this has worked and show you what kind of hardware you have access to.    "
   ]
  },
  {
   "cell_type": "code",
   "execution_count": 1,
   "id": "e39e84d5",
   "metadata": {
    "slideshow": {
     "slide_type": "fragment"
    }
   },
   "outputs": [],
   "source": [
    "#!python -c \"import monai\" || pip install -qU \"monai[ignite, nibabel, torchvision, tqdm]==1.1.0\""
   ]
  },
  {
   "cell_type": "markdown",
   "id": "fb4074ed",
   "metadata": {
    "slideshow": {
     "slide_type": "fragment"
    },
    "tags": []
   },
   "source": [
    "### Required Packages for Colab Execution\n",
    "\n",
    "Execute the following cell to install MONAI the first time a colab notebook is run:"
   ]
  },
  {
   "cell_type": "code",
   "execution_count": 2,
   "id": "082d4051",
   "metadata": {
    "slideshow": {
     "slide_type": "fragment"
    }
   },
   "outputs": [
    {
     "name": "stdout",
     "output_type": "stream",
     "text": [
      "Tue Apr 11 17:11:29 2023       \n",
      "+-----------------------------------------------------------------------------+\n",
      "| NVIDIA-SMI 470.141.03   Driver Version: 470.141.03   CUDA Version: 11.8     |\n",
      "|-------------------------------+----------------------+----------------------+\n",
      "| GPU  Name        Persistence-M| Bus-Id        Disp.A | Volatile Uncorr. ECC |\n",
      "| Fan  Temp  Perf  Pwr:Usage/Cap|         Memory-Usage | GPU-Util  Compute M. |\n",
      "|                               |                      |               MIG M. |\n",
      "|===============================+======================+======================|\n",
      "|   0  NVIDIA A100-SXM...  On   | 00000000:07:00.0 Off |                    0 |\n",
      "| N/A   43C    P0   159W / 400W |   2284MiB / 81251MiB |     58%      Default |\n",
      "|                               |                      |             Disabled |\n",
      "+-------------------------------+----------------------+----------------------+\n",
      "|   1  NVIDIA A100-SXM...  On   | 00000000:0F:00.0 Off |                    0 |\n",
      "| N/A   46C    P0   206W / 400W |   8986MiB / 81251MiB |     88%      Default |\n",
      "|                               |                      |             Disabled |\n",
      "+-------------------------------+----------------------+----------------------+\n",
      "|   2  NVIDIA A100-SXM...  On   | 00000000:47:00.0 Off |                    0 |\n",
      "| N/A   27C    P0    65W / 400W |   7504MiB / 81251MiB |      0%      Default |\n",
      "|                               |                      |             Disabled |\n",
      "+-------------------------------+----------------------+----------------------+\n",
      "|   3  NVIDIA A100-SXM...  On   | 00000000:4E:00.0 Off |                    0 |\n",
      "| N/A   31C    P0    85W / 400W |  26484MiB / 81251MiB |    100%      Default |\n",
      "|                               |                      |             Disabled |\n",
      "+-------------------------------+----------------------+----------------------+\n",
      "|   4  NVIDIA A100-SXM...  On   | 00000000:87:00.0 Off |                    0 |\n",
      "| N/A   39C    P0    62W / 400W |      3MiB / 81251MiB |      0%      Default |\n",
      "|                               |                      |             Disabled |\n",
      "+-------------------------------+----------------------+----------------------+\n",
      "|   5  NVIDIA A100-SXM...  On   | 00000000:90:00.0 Off |                    0 |\n",
      "| N/A   40C    P0    61W / 400W |      0MiB / 81251MiB |      0%      Default |\n",
      "|                               |                      |             Disabled |\n",
      "+-------------------------------+----------------------+----------------------+\n",
      "|   6  NVIDIA A100-SXM...  On   | 00000000:B7:00.0 Off |                    0 |\n",
      "| N/A   38C    P0   133W / 400W |  16252MiB / 81251MiB |     38%      Default |\n",
      "|                               |                      |             Disabled |\n",
      "+-------------------------------+----------------------+----------------------+\n",
      "|   7  NVIDIA A100-SXM...  On   | 00000000:BD:00.0 Off |                    0 |\n",
      "| N/A   32C    P0    62W / 400W |      0MiB / 81251MiB |      0%      Default |\n",
      "|                               |                      |             Disabled |\n",
      "+-------------------------------+----------------------+----------------------+\n",
      "                                                                               \n",
      "+-----------------------------------------------------------------------------+\n",
      "| Processes:                                                                  |\n",
      "|  GPU   GI   CI        PID   Type   Process name                  GPU Memory |\n",
      "|        ID   ID                                                   Usage      |\n",
      "|=============================================================================|\n",
      "|    0   N/A  N/A     95598      C   python                           2281MiB |\n",
      "|    1   N/A  N/A    110140      C   ...conda/envs/ani/bin/python     8983MiB |\n",
      "|    2   N/A  N/A    107703      C   python3                          6925MiB |\n",
      "|    3   N/A  N/A     91647      C   ...pytorch/1.8.1/bin/python3    10475MiB |\n",
      "|    3   N/A  N/A    107703      C   python3                          5531MiB |\n",
      "|    3   N/A  N/A    130435      C   ...pytorch/1.8.1/bin/python3    10475MiB |\n",
      "|    6   N/A  N/A     76400      C   ...envs/pytorch3d/bin/python    16249MiB |\n",
      "+-----------------------------------------------------------------------------+\n"
     ]
    }
   ],
   "source": [
    "!nvidia-smi"
   ]
  },
  {
   "cell_type": "markdown",
   "id": "b906132c",
   "metadata": {
    "slideshow": {
     "slide_type": "slide"
    }
   },
   "source": [
    "## Getting Started with MONAI\n",
    "\n",
    "MONAI is a PyTorch-based, open-source framework for deep learning in healthcare imaging, part of the PyTorch Ecosystem.\n",
    "\n",
    "*Its ambitions are:*\n",
    "\n",
    "- to develop a community of academic, industrial and clinical researchers collaborating on a common foundation\n",
    "- to create state-of-the-art, end-to-end training workflows for healthcare imaging\n",
    "- to provide researchers with the optimized and standardized way to create and evaluate deep learning models"
   ]
  },
  {
   "cell_type": "markdown",
   "id": "8d7f05d8",
   "metadata": {
    "slideshow": {
     "slide_type": "slide"
    }
   },
   "source": [
    "### MONAI End to End workflow\n",
    "\n",
    "MONAI aims to support deep learning in medical image analysis at multiple levels. This figure shows a typical example of an end-to-end workflow in a medical deep learning context:\n",
    "\n",
    "<center><img src=\"end_to_end.png\" style=\"width: 1400px;\"/></center>"
   ]
  },
  {
   "cell_type": "markdown",
   "id": "812d313e",
   "metadata": {
    "slideshow": {
     "slide_type": "slide"
    }
   },
   "source": [
    "### What's the Need?\n",
    "\n",
    "* Biomedical applications have specific requirements\n",
    "* Image modalities (MR, CT, US, etc.) require specific data processing functionality\n",
    "* Data formats (DICOM, NIfTI, etc.) are specific to medical applications and require specific support\n",
    "* Certain network architectures are designed for, or are highly suitable for, biomedical applications\n",
    "* Data transforms specific to biomedical applications, and to image modalities, are very useful when pre-processing data, augmenting data during training, and for post-processing\n",
    "* Reproducible science requires reproducible experiments which in turn rely on software accessible to other scientists, even if just as a common baseline\n",
    "* A community-driven library to provide solutions to these requirements reduces duplication/re-implementation\n",
    "* Baseline implementations of common networks, and implementations of networks specific to certain papers, provides a basis for comparison between others' networks and results"
   ]
  },
  {
   "cell_type": "markdown",
   "id": "2a27189b",
   "metadata": {
    "slideshow": {
     "slide_type": "slide"
    }
   },
   "source": [
    "### How Does MONAI Address This Need?\n",
    "\n",
    "MONAI provides a framework of deep learning functionality and infrastructure to meet these needs in a flexible, PyTorch-compatible way:\n",
    "* Direct support for loading and manipulating biomedical file types\n",
    "* Biomedical-data-specific transforms for regularisation and augmentation of biomedical imaging data for training, validation, and deployment\n",
    "* Library of general-purpose network, metric, and loss function definitions implementing both established and cutting-edge architectures and features\n",
    "* Set of ready-made components for training and inference to utilize computing infrastructure efficiently\n",
    "\n"
   ]
  },
  {
   "cell_type": "markdown",
   "id": "6b771b7b",
   "metadata": {
    "slideshow": {
     "slide_type": "slide"
    }
   },
   "source": [
    "#### Enhancing Reproducible Data Science\n",
    "\n",
    "MONAI contributes to reproducible data science by making the training and distribution of experiments easier:\n",
    "* Common underlying framework aids in comparison and interoperability across user's implementations\n",
    "* Users can pick and choose components and existing networks, then contribute new code to make their results available to others\n",
    "* Reference implementations of networks from papers provide baselines for replication studies and comparisons"
   ]
  },
  {
   "cell_type": "markdown",
   "id": "002da3a5",
   "metadata": {
    "slideshow": {
     "slide_type": "slide"
    }
   },
   "source": [
    "### MONAI Architecture\n",
    "By explicit design principle, MONAI provides flexible and light APIs for users with varying expertise:\n",
    "* All the core components are independent modules, easily integrated into existing PyTorch programs\n",
    "* Leverage MONAI workflows to quickly set up a robust training or evaluation program for research experiments.\n",
    "* Rich examples and demos are provided to demonstrate the key features.\n",
    "* Researchers contribute implementations based on the state-of-the-art for the latest research challenges, including:\n",
    "  * COVID-19 image analysis\n",
    "  * Dataset caching mechanisms\n",
    "  * Model Parallel execution modes\n",
    "  * and more...\n"
   ]
  },
  {
   "cell_type": "markdown",
   "id": "4bb7742c",
   "metadata": {
    "slideshow": {
     "slide_type": "slide"
    }
   },
   "source": [
    "### MONAI Architecture\n",
    "\n",
    "<br>\n",
    "<center><img src=\"arch_modules_v0.4.png\" style=\"width: 1000px;\"/></center>"
   ]
  },
  {
   "cell_type": "markdown",
   "id": "8d8f731d",
   "metadata": {
    "slideshow": {
     "slide_type": "slide"
    }
   },
   "source": [
    "## MONAI Design Philosophy\n",
    "\n",
    "Key principles:\n",
    "* MONAI looks like PyTorch, uses/extends PyTorch types and adheres to it's general design philosophy\n",
    "* MONAI is additive on top of PyTorch, providing extensions or wrappers\n",
    "* MONAI is opt-in and incremental, no need to rewrite entire models to integrate existing code\n",
    "* MONAI is collaborative, providing adapters and loosely coupled components to ease integration with third party code\n",
    "* MONAI is PyTorch ecosystem friendly, and part of the official ecosystem!"
   ]
  },
  {
   "cell_type": "markdown",
   "id": "3ae47bd1",
   "metadata": {
    "slideshow": {
     "slide_type": "slide"
    }
   },
   "source": [
    "## Learning Objectives\n",
    "\n",
    "To help you understand more about MONAI transforms, dataset caching, and network architectures this guide will help you answer six key questions:\n",
    "\n",
    "1. **What transforms are available to help create a data pipeline for training?**\n",
    "2. **What is required to write a custom transform?**\n",
    "3. **How do I create a basic MONAI dataset with transforms?**\n",
    "4. **What is a MONAI Dataset and how does dataset caching work?**\n",
    "5. **What common datasets are provided by MONAI?**\n",
    "6. **What Network and Network components does MONAI provide and how do you use these components to create a network?**"
   ]
  },
  {
   "cell_type": "markdown",
   "id": "6987dcbb",
   "metadata": {
    "slideshow": {
     "slide_type": "slide"
    }
   },
   "source": [
    "### Imports\n",
    "\n",
    "Let's get started by importing our dependecies:\n",
    "* We're going to load everything that we'll need for the remainder of the notebook here\n",
    "* You'll see a lot of import statements, but we'll make sure to go over each of them throughout the rest of the notebook."
   ]
  },
  {
   "cell_type": "markdown",
   "id": "d5cc5c38",
   "metadata": {
    "slideshow": {
     "slide_type": "slide"
    }
   },
   "source": [
    "### Imports"
   ]
  },
  {
   "cell_type": "code",
   "execution_count": 3,
   "id": "e3015be6",
   "metadata": {
    "slideshow": {
     "slide_type": "fragment"
    }
   },
   "outputs": [
    {
     "name": "stderr",
     "output_type": "stream",
     "text": [
      "/opt/conda/lib/python3.8/site-packages/tqdm/auto.py:22: TqdmWarning: IProgress not found. Please update jupyter and ipywidgets. See https://ipywidgets.readthedocs.io/en/stable/user_install.html\n",
      "  from .autonotebook import tqdm as notebook_tqdm\n"
     ]
    }
   ],
   "source": [
    "import tempfile\n",
    "import nibabel as nib\n",
    "import numpy as np\n",
    "import matplotlib.pyplot as plt\n",
    "from typing import Optional, Any, Mapping, Hashable\n",
    "import time\n",
    "import torch\n",
    "\n",
    "import monai\n",
    "from monai.config import print_config\n",
    "from monai.utils import first\n",
    "from monai.config import KeysCollection\n",
    "\n",
    "from monai.data import (Dataset, ArrayDataset, create_test_image_3d, DataLoader, DataLoader, \n",
    "CacheDataset, PersistentDataset, SmartCacheDataset)\n",
    "\n",
    "from monai.transforms import (Transform, MapTransform, Randomizable, EnsureChannelFirst, EnsureChannelFirstd,\n",
    "Compose, LoadImage, LoadImaged, Lambda, Lambdad, RandSpatialCrop, RandSpatialCropd, RandGaussianNoise,\n",
    "RandGaussianNoised, Orientation, Rotate, MapTransform)\n",
    "\n",
    "from monai.apps import DecathlonDataset, TciaDataset\n",
    "from monai.apps.tcia import TCIA_LABEL_DICT"
   ]
  },
  {
   "cell_type": "markdown",
   "id": "0a0aa85a",
   "metadata": {
    "slideshow": {
     "slide_type": "slide"
    }
   },
   "source": [
    "### Verify your Configuration\n",
    "\n",
    "Before getting started, it can be helpful to verify your environment setup and make sure all of the dependecies you need are installed. MONAI provides a handy utility to make it easy with `print_config()`"
   ]
  },
  {
   "cell_type": "code",
   "execution_count": 4,
   "id": "7b3ed1af",
   "metadata": {
    "slideshow": {
     "slide_type": "fragment"
    }
   },
   "outputs": [
    {
     "name": "stdout",
     "output_type": "stream",
     "text": [
      "MONAI version: 1.0.1\n",
      "Numpy version: 1.22.2\n",
      "Pytorch version: 1.13.0a0+d0d6b1f\n",
      "MONAI flags: HAS_EXT = True, USE_COMPILED = False, USE_META_DICT = False\n",
      "MONAI rev id: 8271a193229fe4437026185e218d5b06f7c8ce69\n",
      "MONAI __file__: /opt/monai/monai/__init__.py\n",
      "\n",
      "Optional dependencies:\n",
      "Pytorch Ignite version: 0.4.11\n",
      "Nibabel version: 4.0.2\n",
      "scikit-image version: 0.19.3\n",
      "Pillow version: 9.0.1\n",
      "Tensorboard version: 2.12.1\n",
      "gdown version: 4.5.3\n",
      "TorchVision version: 0.14.0a0\n",
      "tqdm version: 4.64.1\n",
      "lmdb version: 1.3.0\n",
      "psutil version: 5.9.2\n",
      "pandas version: 1.4.4\n",
      "einops version: 0.5.0\n",
      "transformers version: 4.21.3\n",
      "mlflow version: 1.30.0\n",
      "pynrrd version: 1.0.0\n",
      "\n",
      "For details about installing the optional dependencies, please visit:\n",
      "    https://docs.monai.io/en/latest/installation.html#installing-the-recommended-dependencies\n",
      "\n"
     ]
    }
   ],
   "source": [
    "print_config()"
   ]
  },
  {
   "cell_type": "markdown",
   "id": "fe0101aa",
   "metadata": {
    "slideshow": {
     "slide_type": "slide"
    }
   },
   "source": [
    "### 1. What transforms are available to help create a data pipeline for training?\n",
    "\n",
    "\n",
    "#### Medical Image Data I/O, Processing and Augmentation\n",
    "\n",
    "Medical images require highly specialized methods for I/O, preprocessing, and augmentation. Medical images are often in specialized formats with rich meta-information, and the data volumes are often high-dimensional. These require carefully designed manipulation procedures. The medical imaging focus of MONAI is enabled by powerful and flexible image transformations that facilitate user-friendly, reproducible, optimized medical data pre-processing pipelines.\n",
    "\n",
    "<img src=\"medical_transforms.png\" />"
   ]
  },
  {
   "cell_type": "markdown",
   "id": "e7da434a",
   "metadata": {
    "slideshow": {
     "slide_type": "slide"
    }
   },
   "source": [
    "#### Transforms Support both Dictionary and Array Format Data\n",
    "\n",
    "The widely used computer vision packages (such as torchvision) focus on spatially 2D array image processing. MONAI provides more domain-specific transformations for both spatially 2D and 3D and retains the flexible transformation “compose” feature.\n",
    "\n",
    "As medical image preprocessing often requires additional fine-grained system parameters, MONAI provides transforms for input data encapsulated in python dictionaries. Users can specify the keys corresponding to the expected data fields and system parameters to compose complex transformations.\n",
    "\n",
    "There is a rich set of transforms in six categories: Crop & Pad, Intensity, IO, Post-processing, Spatial, and Utilities. For more details, please visit all the transforms in MONAI."
   ]
  },
  {
   "cell_type": "markdown",
   "id": "beb81f06",
   "metadata": {
    "slideshow": {
     "slide_type": "slide"
    }
   },
   "source": [
    "#### Medical Specific Transforms\n",
    "MONAI aims at providing a comprehensive medical image specific transformations. These currently include, for example:\n",
    "\n",
    "* LoadImage: Load medical specific formats file from provided path\n",
    "* Spacing: Resample input image into the specified pixdim\n",
    "* Orientation: Change the image’s orientation into the specified axcodes\n",
    "* RandGaussianNoise: Perturb image intensities by adding statistical noises\n",
    "* NormalizeIntensity: Intensity Normalization based on mean and standard deviation\n",
    "* Affine: Transform image based on the affine parameters\n",
    "* Rand2DElastic: Random elastic deformation and affine in 2D\n",
    "* Rand3DElastic: Random elastic deformation and affine in 3D"
   ]
  },
  {
   "cell_type": "markdown",
   "id": "0762180a",
   "metadata": {
    "slideshow": {
     "slide_type": "slide"
    }
   },
   "source": [
    "#### Create Toy Data and Temp Directory for Examples\n",
    "\n",
    "We'll create a temporary directory and populate it with a few example Nifti file-format images containing a random assortment of spheres.  We're also creating a matching segmentation pair that will be used later in the notebook."
   ]
  },
  {
   "cell_type": "code",
   "execution_count": 5,
   "id": "69869b9e",
   "metadata": {
    "slideshow": {
     "slide_type": "fragment"
    }
   },
   "outputs": [],
   "source": [
    "fn_keys = (\"img\", \"seg\")  # filename keys for image and seg files\n",
    "\n",
    "root_dir = tempfile.mkdtemp()\n",
    "filenames = []\n",
    "\n",
    "for i in range(5):\n",
    "    im, seg = create_test_image_3d(128, 128, 128, num_objs=16, rad_max=25)\n",
    "\n",
    "    im_filename = f\"{root_dir}/im{i}.nii.gz\"\n",
    "    seg_filename = f\"{root_dir}/seg{i}.nii.gz\"\n",
    "    filenames.append({\"img\": im_filename, \"seg\": seg_filename})\n",
    "\n",
    "    n = nib.Nifti1Image(im, np.eye(4))\n",
    "    nib.save(n, im_filename)\n",
    "\n",
    "    n = nib.Nifti1Image(seg, np.eye(4))\n",
    "    nib.save(n, seg_filename)"
   ]
  },
  {
   "cell_type": "markdown",
   "id": "f44b9be3",
   "metadata": {
    "slideshow": {
     "slide_type": "slide"
    }
   },
   "source": [
    "#### Array Transforms\n",
    "\n",
    "Transforms in MONAI are callable objects accepting inputs from initial data in a dataset or previous transforms. We can create and call these directly without any infrastructure or system setup as components in MONAI are designed to be as decoupled as possible. For example we can load one of our Nifti files directly by creating the transform and calling it."
   ]
  },
  {
   "cell_type": "code",
   "execution_count": 6,
   "id": "f119487f",
   "metadata": {
    "slideshow": {
     "slide_type": "fragment"
    }
   },
   "outputs": [
    {
     "name": "stdout",
     "output_type": "stream",
     "text": [
      "<class 'monai.data.meta_tensor.MetaTensor'> (1, 128, 128, 128) -1\n"
     ]
    }
   ],
   "source": [
    "trans = Compose([LoadImage(image_only=True), EnsureChannelFirst()])\n",
    "img = trans(filenames[0][\"img\"])\n",
    "print(type(img), img.shape, img.get_device())"
   ]
  },
  {
   "cell_type": "markdown",
   "id": "e2536e6a",
   "metadata": {
    "slideshow": {
     "slide_type": "slide"
    }
   },
   "source": [
    "#### Dictionary Transforms\n",
    "\n",
    "So far we have seen transforms which are applied to individual Numpy arrays, however for most training schemes a pipeline with multiple values is needed:\n",
    "* To address this MONAI includes transforms for operating on dictionaries of arrays, one for each equivalent array transform\n",
    "* These can be applied to named values in an input dictionary while leaving unnamed values untouched\n",
    "  * for example adding noise to an image while leaving the associated label image untouched."
   ]
  },
  {
   "cell_type": "markdown",
   "id": "fb215067",
   "metadata": {
    "slideshow": {
     "slide_type": "slide"
    }
   },
   "source": [
    "#### Dictionary Transforms\n",
    "\n",
    "Earlier in the notebook we imported the dictionary equivalent transforms which have a 'd' appended to their names:\n",
    "* We'll use those transforms in this section\n",
    "* The keys argument in LoadNiftid is used to state which keys contain paths to Nifti files\n",
    "  * All other values in the input dictionary will be retained\n",
    "  * With this set we can look at the keys returned when calling the transform:"
   ]
  },
  {
   "cell_type": "code",
   "execution_count": 7,
   "id": "a9119b1e",
   "metadata": {
    "slideshow": {
     "slide_type": "fragment"
    }
   },
   "outputs": [
    {
     "name": "stdout",
     "output_type": "stream",
     "text": [
      "['img', 'seg', 'img_meta_dict', 'seg_meta_dict']\n"
     ]
    }
   ],
   "source": [
    "trans = LoadImaged(keys=fn_keys)\n",
    "data = trans(filenames[0])\n",
    "print(list(data.keys()))"
   ]
  },
  {
   "cell_type": "markdown",
   "id": "29c4fc9e",
   "metadata": {
    "slideshow": {
     "slide_type": "slide"
    }
   },
   "source": [
    "### What is required to write a custom transform?\n",
    "\n"
   ]
  },
  {
   "cell_type": "markdown",
   "id": "39d6929f",
   "metadata": {
    "slideshow": {
     "slide_type": "slide"
    }
   },
   "source": [
    "#### Custom Array Transform\n",
    "\n",
    "We can define our own custom transform operation in a number of ways. \n",
    "\n",
    "If a simple callable is used as an operator, `Lambda` can be used to wrap it as a transform:\n",
    "* We define in this example a transform to sum the image in the 1st (width) dimension to produce a 2D image:"
   ]
  },
  {
   "cell_type": "code",
   "execution_count": 8,
   "id": "8054f3c6",
   "metadata": {
    "slideshow": {
     "slide_type": "fragment"
    }
   },
   "outputs": [
    {
     "data": {
      "text/plain": [
       "<matplotlib.image.AxesImage at 0x2afa49beb7f0>"
      ]
     },
     "execution_count": 8,
     "metadata": {},
     "output_type": "execute_result"
    },
    {
     "data": {
      "image/png": "[encoded data removed]",
      "text/plain": [
       "<Figure size 640x480 with 1 Axes>"
      ]
     },
     "metadata": {},
     "output_type": "display_data"
    }
   ],
   "source": [
    "def sum_width(img):\n",
    "    return img.sum(1)\n",
    "\n",
    "\n",
    "trans = Compose([LoadImage(image_only=True), EnsureChannelFirst(), Lambda(sum_width)])\n",
    "img = trans(filenames[0][\"img\"])\n",
    "plt.imshow(img[0])"
   ]
  },
  {
   "cell_type": "markdown",
   "id": "0335b34b",
   "metadata": {
    "slideshow": {
     "slide_type": "slide"
    }
   },
   "source": [
    "Creating a subclass of Transform is the second method, and this has the advantage of being able to define attributes with the instantiated objects:\n",
    "* Let's define a class to sum in a chosen dimension, and use it to sum in the 2nd (height) dimension:"
   ]
  },
  {
   "cell_type": "code",
   "execution_count": 9,
   "id": "da37d438",
   "metadata": {
    "slideshow": {
     "slide_type": "fragment"
    }
   },
   "outputs": [
    {
     "data": {
      "text/plain": [
       "<matplotlib.image.AxesImage at 0x2afa45aba220>"
      ]
     },
     "execution_count": 9,
     "metadata": {},
     "output_type": "execute_result"
    },
    {
     "data": {
      "image/png": "[encoded data removed]",
      "text/plain": [
       "<Figure size 640x480 with 1 Axes>"
      ]
     },
     "metadata": {},
     "output_type": "display_data"
    }
   ],
   "source": [
    "class SumDimension(Transform):\n",
    "    def __init__(self, dim=1):\n",
    "        self.dim = dim\n",
    "\n",
    "    def __call__(self, inputs):\n",
    "        return inputs.sum(self.dim)\n",
    "\n",
    "\n",
    "trans = Compose([LoadImage(image_only=True), EnsureChannelFirst(), SumDimension(2)])\n",
    "img = trans(filenames[0][\"img\"])\n",
    "plt.imshow(img[0])"
   ]
  },
  {
   "cell_type": "markdown",
   "id": "4807d3b5",
   "metadata": {
    "slideshow": {
     "slide_type": "slide"
    }
   },
   "source": [
    "#### Custom Dictionary Transform\n",
    "\n",
    "`Lambdad` applies the given callable to each array named by `keys` separately:\n",
    "* We can use this to define transforms operating on different named values in the dictionary at different points in the sequence:"
   ]
  },
  {
   "cell_type": "code",
   "execution_count": 10,
   "id": "ea252a7d",
   "metadata": {
    "slideshow": {
     "slide_type": "fragment"
    }
   },
   "outputs": [
    {
     "data": {
      "text/plain": [
       "<matplotlib.image.AxesImage at 0x2afa49c1ed00>"
      ]
     },
     "execution_count": 10,
     "metadata": {},
     "output_type": "execute_result"
    },
    {
     "data": {
      "image/png": "[encoded data removed]",
      "text/plain": [
       "<Figure size 640x480 with 1 Axes>"
      ]
     },
     "metadata": {},
     "output_type": "display_data"
    }
   ],
   "source": [
    "def sum_width(img):\n",
    "    return img.sum(1)\n",
    "\n",
    "def max_width(img):\n",
    "    return img.max(1)\n",
    "\n",
    "trans = Compose(\n",
    "    [LoadImaged(fn_keys), EnsureChannelFirstd(fn_keys), Lambdad((\"img\",), sum_width), Lambdad((\"seg\",), max_width)]\n",
    ")\n",
    "\n",
    "imgd = trans(filenames[0])\n",
    "img = imgd[\"img\"]\n",
    "seg = imgd[\"seg\"]\n",
    "\n",
    "plt.imshow(np.hstack((img[0] * 5 / img.max(), np.squeeze(seg[0]))))"
   ]
  },
  {
   "cell_type": "markdown",
   "id": "dcab7088",
   "metadata": {
    "slideshow": {
     "slide_type": "slide"
    }
   },
   "source": [
    "#### Deterministic vs non-deterministic transforms\n",
    "\n",
    "*Deterministic transforms*: Given same input, produce the same output\n",
    "\n",
    "*Non-Deterministic transforms*: Given the same input, produce randomized output each time, based on RNG\n",
    "\n",
    "MONAI's non-deterministic transforms have several useful features:\n",
    "* By default, each transform has its own RNG\n",
    "* Datasets can override this (see `ArrayDataset` below)\n",
    "* You can override it by providing either a 'seed' or a `RandomState` instance\n"
   ]
  },
  {
   "cell_type": "markdown",
   "id": "f04af3f4",
   "metadata": {
    "slideshow": {
     "slide_type": "slide"
    }
   },
   "source": [
    "### 3. How do I create a basic MONAI dataset with transforms?\n",
    "\n",
    "Now that we've taken a look at transform, let's take a look at datasets:\n",
    "* With a data source and transforms defined we can now create a dataset object\n",
    "* The base class for MONAI is `Dataset`, created here to load the image Nifti files only\n",
    "* `Dataset` inherits from the Pytorch class of that name and adds only the ability to apply the given transform to selected items\n",
    "  * If you're familiar with the class from Pytorch this will work the same way. "
   ]
  },
  {
   "cell_type": "code",
   "execution_count": 11,
   "id": "11b6d0b4",
   "metadata": {
    "slideshow": {
     "slide_type": "fragment"
    }
   },
   "outputs": [
    {
     "name": "stdout",
     "output_type": "stream",
     "text": [
      "(1, 128, 128, 128) -1\n"
     ]
    }
   ],
   "source": [
    "images = [fn[\"img\"] for fn in filenames]\n",
    "\n",
    "transform = Compose([LoadImage(image_only=True), EnsureChannelFirst()])\n",
    "ds = Dataset(images, transform)\n",
    "img_tensor = ds[0]\n",
    "print(img_tensor.shape, img_tensor.get_device())"
   ]
  },
  {
   "cell_type": "markdown",
   "id": "b2be97a6",
   "metadata": {
    "slideshow": {
     "slide_type": "slide"
    }
   },
   "source": [
    "#### ArrayDataset\n",
    "\n",
    "MONAI provides the `ArrayDataset` for supervised training applications:\n",
    "* Provide one pipeline for images and another for labels\n",
    "* Typically this is useful when performing augmentations on images that don't make sense for labels\n",
    "  * Adding noise, normalization, so forth\n",
    "* Both pipelines use the random state of the dataset to ensure consistency for random operations\n",
    "  * Caveat: The shared operations must be in the same order\n",
    "  * Caveat: The shared operations must be before any unshared operations"
   ]
  },
  {
   "cell_type": "markdown",
   "id": "37781e60",
   "metadata": {
    "slideshow": {
     "slide_type": "slide"
    }
   },
   "source": [
    "#### ArrayDataset"
   ]
  },
  {
   "cell_type": "code",
   "execution_count": 12,
   "id": "7bf2bd06",
   "metadata": {
    "slideshow": {
     "slide_type": "fragment"
    }
   },
   "outputs": [
    {
     "data": {
      "text/plain": [
       "<matplotlib.image.AxesImage at 0x2afa52581550>"
      ]
     },
     "execution_count": 12,
     "metadata": {},
     "output_type": "execute_result"
    },
    {
     "data": {
      "image/png": "[encoded data removed]",
      "text/plain": [
       "<Figure size 640x480 with 1 Axes>"
      ]
     },
     "metadata": {},
     "output_type": "display_data"
    }
   ],
   "source": [
    "images = [fn[\"img\"] for fn in filenames]\n",
    "segs = [fn[\"seg\"] for fn in filenames]\n",
    "\n",
    "img_transform = Compose(\n",
    "    [\n",
    "        LoadImage(image_only=True),\n",
    "        EnsureChannelFirst(),\n",
    "        RandSpatialCrop((128, 128, 128), random_size=False),\n",
    "        RandGaussianNoise(.5, 1, 1),\n",
    "    ]\n",
    ")\n",
    "seg_transform = Compose(\n",
    "    [LoadImage(image_only=True), EnsureChannelFirst(), RandSpatialCrop((128, 128, 128), random_size=False)]\n",
    ")\n",
    "\n",
    "ds = ArrayDataset(images, img_transform, segs, seg_transform)\n",
    "im, seg = ds[0]\n",
    "plt.imshow(np.hstack([im.numpy()[0, 48], seg.numpy()[0, 48]]))"
   ]
  },
  {
   "cell_type": "markdown",
   "id": "852318eb",
   "metadata": {
    "slideshow": {
     "slide_type": "slide"
    }
   },
   "source": [
    "#### Dataset with Dictionary-based Transforms\n",
    "\n",
    "Alternatively, `Dataset` can be used with dictionary-based transforms to construct a result mapping. For training applications beyond simple input/ground-truth pairs like the above this would be more suitable:"
   ]
  },
  {
   "cell_type": "code",
   "execution_count": 13,
   "id": "cdd71e18",
   "metadata": {
    "slideshow": {
     "slide_type": "fragment"
    }
   },
   "outputs": [
    {
     "data": {
      "text/plain": [
       "<matplotlib.image.AxesImage at 0x2afa52607460>"
      ]
     },
     "execution_count": 13,
     "metadata": {},
     "output_type": "execute_result"
    },
    {
     "data": {
      "image/png": "[encoded data removed]",
      "text/plain": [
       "<Figure size 640x480 with 1 Axes>"
      ]
     },
     "metadata": {},
     "output_type": "display_data"
    }
   ],
   "source": [
    "trans = Compose(\n",
    "    [\n",
    "        LoadImaged(fn_keys),\n",
    "        EnsureChannelFirstd(fn_keys),\n",
    "        RandGaussianNoised((\"img\",)),\n",
    "        RandSpatialCropd(fn_keys, (128, 128, 128), random_size=False),\n",
    "    ]\n",
    ")\n",
    "\n",
    "ds = Dataset(filenames, trans)\n",
    "item = ds[0]\n",
    "im, seg = item[\"img\"], item[\"seg\"]\n",
    "plt.imshow(np.hstack([im.numpy()[0, 48], seg.numpy()[0, 48]]))"
   ]
  },
  {
   "cell_type": "markdown",
   "id": "5fc6c08a",
   "metadata": {
    "slideshow": {
     "slide_type": "slide"
    }
   },
   "source": [
    "#### DataLoader\n",
    "\n",
    "With the dataset defined, we can now create the dataloader to create data batches:\n",
    "* Inherits from Pytorch's `DataLoader` class with a few changes to the default constructor arguments\n",
    "* MONAI functionality is compatible with the PyTorch DataLoader\n",
    "  * Additional functionality adds key extensions to the standard `DataLoader`\n"
   ]
  },
  {
   "cell_type": "markdown",
   "id": "4d586ce4",
   "metadata": {
    "slideshow": {
     "slide_type": "slide"
    }
   },
   "source": [
    "##### Example\n",
    "* The `DataLoader` example uses five worker processes to load the actual data\n",
    "* MONAI also provides a number of `Dataset` subclasses to further improve the efficiency of this process"
   ]
  },
  {
   "cell_type": "code",
   "execution_count": 14,
   "id": "f0a6ab00",
   "metadata": {
    "slideshow": {
     "slide_type": "fragment"
    }
   },
   "outputs": [
    {
     "name": "stderr",
     "output_type": "stream",
     "text": [
      "This DataLoader will create 5 worker processes in total. Our suggested max number of worker in current system is 4, which is smaller than what this DataLoader is going to create. Please be aware that excessive worker creation might get DataLoader running slow or even freeze, lower the worker number to avoid potential slowness/freeze if necessary.\n"
     ]
    },
    {
     "name": "stdout",
     "output_type": "stream",
     "text": [
      "['img', 'seg', 'img_meta_dict', 'seg_meta_dict'] (5, 1, 128, 128, 128)\n"
     ]
    },
    {
     "data": {
      "text/plain": [
       "<matplotlib.image.AxesImage at 0x2afa52665130>"
      ]
     },
     "execution_count": 14,
     "metadata": {},
     "output_type": "execute_result"
    },
    {
     "data": {
      "image/png": "[encoded data removed]",
      "text/plain": [
       "<Figure size 800x400 with 2 Axes>"
      ]
     },
     "metadata": {},
     "output_type": "display_data"
    }
   ],
   "source": [
    "loader = DataLoader(ds, batch_size=5, num_workers=5)\n",
    "batch = first(loader)\n",
    "print(list(batch.keys()), batch[\"img\"].shape)\n",
    "\n",
    "f, ax = plt.subplots(2, 1, figsize=(8, 4))\n",
    "ax[0].imshow(np.hstack(batch[\"img\"][:, 0, 64]))\n",
    "ax[1].imshow(np.hstack(batch[\"seg\"][:, 0, 64]))"
   ]
  },
  {
   "cell_type": "markdown",
   "id": "aaca7bbd",
   "metadata": {
    "slideshow": {
     "slide_type": "slide"
    }
   },
   "source": [
    "### 4. What is a MONAI Dataset and how does dataset caching work?\n",
    "\n",
    "\n",
    "Users often need to train the model with many (potentially thousands of) epochs over the data to achieve the desired model quality:\n",
    "* A native PyTorch implementation may repeatedly load data and run the same preprocessing steps for every epoch during training\n",
    "* Can be time-consuming and unnecessary, especially when the medical image volumes are large\n",
    "* By utilizing Dataset Caching, you can reduce the amount of time your system takes to load this data and preprocess it\n",
    "* Reducing your overall training time.\n",
    "\n",
    "We will demonstrate two of the Dataset subclasses here but there are additional useful specialised `Dataset`s\n",
    "\n"
   ]
  },
  {
   "cell_type": "markdown",
   "id": "44a8d224",
   "metadata": {
    "slideshow": {
     "slide_type": "slide"
    }
   },
   "source": [
    "#### What is a MONAI Dataset?\n",
    "\n",
    "A MONAI Dataset is a generic dataset with a __len__ property, __getitem__ property, and an optional callable data transform when fetching a data sample.\n",
    "\n",
    "We'll start by initializing some generic data, calling the Dataset class with the generic data, and specifying None for our transforms."
   ]
  },
  {
   "cell_type": "code",
   "execution_count": 15,
   "id": "9174fa94",
   "metadata": {
    "slideshow": {
     "slide_type": "fragment"
    }
   },
   "outputs": [
    {
     "name": "stdout",
     "output_type": "stream",
     "text": [
      "Length of dataset is 7\n",
      "{'data': 4}\n",
      "{'data': 9}\n",
      "{'data': 3}\n",
      "{'data': 7}\n",
      "{'data': 1}\n",
      "{'data': 2}\n",
      "{'data': 5}\n"
     ]
    }
   ],
   "source": [
    "items = [{\"data\": 4}, \n",
    "         {\"data\": 9}, \n",
    "         {\"data\": 3}, \n",
    "         {\"data\": 7}, \n",
    "         {\"data\": 1},\n",
    "         {\"data\": 2},\n",
    "         {\"data\": 5}]\n",
    "dataset = monai.data.Dataset(items, transform=None)\n",
    "\n",
    "print(f\"Length of dataset is {len(dataset)}\")\n",
    "for item in dataset:\n",
    "    print(item)"
   ]
  },
  {
   "cell_type": "markdown",
   "id": "103cc47b",
   "metadata": {
    "slideshow": {
     "slide_type": "slide"
    }
   },
   "source": [
    "#### Dataset compatibility with PyTorch DataLoader\n",
    "\n",
    "MONAI datasets can be used with vanilla PyTorch DataLoader:\n",
    "* As mentioned, MONAI's `DataLoader` has additional useful functionality"
   ]
  },
  {
   "cell_type": "code",
   "execution_count": 16,
   "id": "ad7ebde6",
   "metadata": {
    "slideshow": {
     "slide_type": "fragment"
    }
   },
   "outputs": [
    {
     "name": "stdout",
     "output_type": "stream",
     "text": [
      "{'data': tensor([4, 9])}\n",
      "{'data': tensor([3, 7])}\n",
      "{'data': tensor([1, 2])}\n",
      "{'data': tensor([5])}\n"
     ]
    }
   ],
   "source": [
    "for item in torch.utils.data.DataLoader(dataset, batch_size=2):\n",
    "    print(item)"
   ]
  },
  {
   "cell_type": "markdown",
   "id": "71574594",
   "metadata": {
    "slideshow": {
     "slide_type": "slide"
    }
   },
   "source": [
    "#### What is Dataset Caching and how do I use it?\n",
    "\n",
    "MONAI provides multi-thread versions of `CacheDataset` and `LMDBDataset` to accelerate transformation pipelines during training:\n",
    " * put deterministic transforms first, and random transforms after\n",
    " * the output of the deterministic transforms is always the same, so only compute once!\n",
    " * random transforms produce different outputs each time they are used so must be computed every time\n",
    "   * can provide up to 10x training speedup in the Datasets experiment.\n",
    " \n",
    "<img src=\"cache_dataset.png\" style=\"width: 700px;\"/>\n",
    " \n"
   ]
  },
  {
   "cell_type": "markdown",
   "id": "207ef127",
   "metadata": {
    "slideshow": {
     "slide_type": "slide"
    }
   },
   "source": [
    "To demonstrate the benefit dataset caching, we're going to construct a dataset with a slow transform:\n",
    " * To do that, we're going to call the sleep function during each of the `__call__` functions."
   ]
  },
  {
   "cell_type": "code",
   "execution_count": 17,
   "id": "63563da2",
   "metadata": {
    "slideshow": {
     "slide_type": "fragment"
    }
   },
   "outputs": [
    {
     "name": "stdout",
     "output_type": "stream",
     "text": [
      "keys to square it: ('data',)\n"
     ]
    }
   ],
   "source": [
    "class SlowSquare(MapTransform):\n",
    "    def __init__(self, keys):\n",
    "        MapTransform.__init__(self, keys)\n",
    "        print(f\"keys to square it: {self.keys}\")\n",
    "\n",
    "    def __call__(self, x):\n",
    "        time.sleep(1.0)\n",
    "        output = {key: x[key] ** 2 for key in self.keys}\n",
    "        return output\n",
    "\n",
    "square_dataset = Dataset(items, transform=SlowSquare(keys=\"data\"))"
   ]
  },
  {
   "cell_type": "markdown",
   "id": "afb12d98",
   "metadata": {
    "slideshow": {
     "slide_type": "slide"
    }
   },
   "source": [
    "As expected, it's going to take about 7 seconds to go through all the items."
   ]
  },
  {
   "cell_type": "code",
   "execution_count": 18,
   "id": "fb119119",
   "metadata": {
    "slideshow": {
     "slide_type": "fragment"
    }
   },
   "outputs": [
    {
     "name": "stdout",
     "output_type": "stream",
     "text": [
      "{'data': 16}\n",
      "{'data': 81}\n",
      "{'data': 9}\n",
      "{'data': 49}\n",
      "{'data': 1}\n",
      "{'data': 4}\n",
      "{'data': 25}\n",
      "CPU times: user 4.67 ms, sys: 151 µs, total: 4.82 ms\n",
      "Wall time: 7.01 s\n"
     ]
    }
   ],
   "source": [
    "%time for item in square_dataset: print(item)"
   ]
  },
  {
   "cell_type": "markdown",
   "id": "3ca0815e",
   "metadata": {
    "slideshow": {
     "slide_type": "fragment"
    }
   },
   "source": [
    "Every time we run this loop it takes roughly 7 seconds to go through all of the items:\n",
    " * 12 extra minutes of load time for 100 epochs\n",
    " * We can improve this time by utilizing caching."
   ]
  },
  {
   "cell_type": "markdown",
   "id": "c863a623",
   "metadata": {
    "slideshow": {
     "slide_type": "slide"
    }
   },
   "source": [
    "#### Cache Dataset\n",
    "\n",
    "When using [CacheDataset](https://docs.monai.io/en/latest/data.html?highlight=dataset#cachedataset) the caching is done when the object is initialized for the first time, so the initialization is slower than a regular dataset:\n",
    "* By caching the results of non-random preprocessing transforms, it accelerates the training data pipeline\n",
    "* If the requested data is not in the cache, all transforms will run normally."
   ]
  },
  {
   "cell_type": "code",
   "execution_count": 19,
   "id": "52635600",
   "metadata": {
    "slideshow": {
     "slide_type": "fragment"
    }
   },
   "outputs": [
    {
     "name": "stdout",
     "output_type": "stream",
     "text": [
      "keys to square it: ('data',)\n"
     ]
    },
    {
     "name": "stderr",
     "output_type": "stream",
     "text": [
      "Loading dataset: 100%|██████████| 7/7 [00:07<00:00,  1.00s/it]\n"
     ]
    }
   ],
   "source": [
    "square_cached = CacheDataset(items, transform=SlowSquare(keys='data'))"
   ]
  },
  {
   "cell_type": "markdown",
   "id": "812a3e00",
   "metadata": {
    "slideshow": {
     "slide_type": "fragment"
    }
   },
   "source": [
    "However, repeatedly fetching the items from an initialized CacheDataset is fast."
   ]
  },
  {
   "cell_type": "code",
   "execution_count": 20,
   "id": "2d8f6309",
   "metadata": {
    "slideshow": {
     "slide_type": "fragment"
    }
   },
   "outputs": [
    {
     "name": "stdout",
     "output_type": "stream",
     "text": [
      "8.51 µs ± 12.4 ns per loop (mean ± std. dev. of 7 runs, 100,000 loops each)\n"
     ]
    }
   ],
   "source": [
    "%timeit list(square_cached)"
   ]
  },
  {
   "cell_type": "markdown",
   "id": "3bee74ab",
   "metadata": {
    "slideshow": {
     "slide_type": "slide"
    }
   },
   "source": [
    "### Persistent Caching\n",
    "\n",
    "[PersistentDataset](https://docs.monai.io/en/latest/data.html?highlight=dataset#persistentdataset) allows for persistent storage of pre-computed values to efficiently manage larger than memory dictionary format data:\n",
    "* Again, the non-random transform components are computed when first used\n",
    "* Stored in the cache_dir for rapid retrieval on subsequent uses"
   ]
  },
  {
   "cell_type": "code",
   "execution_count": 21,
   "id": "8020403e",
   "metadata": {
    "slideshow": {
     "slide_type": "fragment"
    }
   },
   "outputs": [
    {
     "name": "stdout",
     "output_type": "stream",
     "text": [
      "keys to square it: ('data',)\n",
      "{'data': 16}\n",
      "{'data': 81}\n",
      "{'data': 9}\n",
      "{'data': 49}\n",
      "{'data': 1}\n",
      "{'data': 4}\n",
      "{'data': 25}\n",
      "CPU times: user 1.84 ms, sys: 0 ns, total: 1.84 ms\n",
      "Wall time: 20.1 ms\n"
     ]
    }
   ],
   "source": [
    "square_persist = monai.data.PersistentDataset(items, transform=SlowSquare(keys='data'), cache_dir=\"my_cache\")\n",
    "\n",
    "%time for item in square_persist: print(item)"
   ]
  },
  {
   "cell_type": "markdown",
   "id": "8473212a",
   "metadata": {
    "slideshow": {
     "slide_type": "slide"
    }
   },
   "source": [
    "During the initialization of the PersistentDataset we passed in the parameter \"my_cache\" for the location to store the intermediate data. We'll look at that directory below."
   ]
  },
  {
   "cell_type": "code",
   "execution_count": 22,
   "id": "75cb9081",
   "metadata": {
    "slideshow": {
     "slide_type": "fragment"
    }
   },
   "outputs": [
    {
     "name": "stdout",
     "output_type": "stream",
     "text": [
      "57d3e1f66415b9a6a36a90dd89c708c3.pt  acdbabea1a1facbf07dbe5010a951af9.pt\n",
      "5ec8e24ba3963d83f2f6c81744796545.pt  ca0b3885ae71075716d5bd863961a8bc.pt\n",
      "6c81bd5aa312ecd4ba9a5e0340e06a55.pt  f263a1a8f1344ac65b574f0bf30813af.pt\n",
      "71177f0b196d6c5f84f26579bf19caae.pt\n"
     ]
    }
   ],
   "source": [
    "!ls my_cache"
   ]
  },
  {
   "cell_type": "markdown",
   "id": "f5a49c59",
   "metadata": {
    "slideshow": {
     "slide_type": "fragment"
    }
   },
   "source": [
    "When calling out to the dataset on the following epochs, it will not call the slow transform but used the cached data."
   ]
  },
  {
   "cell_type": "code",
   "execution_count": 23,
   "id": "2ebc8e69",
   "metadata": {
    "slideshow": {
     "slide_type": "fragment"
    }
   },
   "outputs": [
    {
     "name": "stdout",
     "output_type": "stream",
     "text": [
      "2.7 ms ± 45.9 µs per loop (mean ± std. dev. of 7 runs, 100 loops each)\n"
     ]
    }
   ],
   "source": [
    "%timeit list(square_persist)"
   ]
  },
  {
   "cell_type": "markdown",
   "id": "9aea481c",
   "metadata": {
    "slideshow": {
     "slide_type": "fragment"
    }
   },
   "source": [
    "Fresh dataset instances can make use of the caching data:"
   ]
  },
  {
   "cell_type": "code",
   "execution_count": 24,
   "id": "10f3d9fc",
   "metadata": {
    "slideshow": {
     "slide_type": "fragment"
    }
   },
   "outputs": [
    {
     "name": "stdout",
     "output_type": "stream",
     "text": [
      "keys to square it: ('data',)\n",
      "2.66 ms ± 155 µs per loop (mean ± std. dev. of 7 runs, 100 loops each)\n"
     ]
    }
   ],
   "source": [
    "square_persist_1 = monai.data.PersistentDataset(items, transform=SlowSquare(keys='data'), cache_dir=\"my_cache\")\n",
    "%timeit list(square_persist_1)"
   ]
  },
  {
   "cell_type": "markdown",
   "id": "abf4b53e",
   "metadata": {
    "slideshow": {
     "slide_type": "slide"
    }
   },
   "source": [
    "#### Caching in action\n",
    "\n",
    "- There's also a [SmartCacheDataset](https://docs.monai.io/en/latest/data.html#monai.data.SmartCacheDataset) to hide the transforms latency with less memory consumption.\n",
    "- The dataset tutorial notebook has a working example and a comparison of different caching mechanism in MONAI: https://github.com/Project-MONAI/tutorials/blob/master/acceleration/dataset_type_performance.ipynb\n",
    "\n",
    "<center><img src=\"datasets_speed.png\" style=\"width: 700px;\"/></center>"
   ]
  },
  {
   "cell_type": "markdown",
   "id": "a5113d7a",
   "metadata": {
    "slideshow": {
     "slide_type": "slide"
    }
   },
   "source": [
    "### 5. What common datasets are provided by MONAI?\n",
    "\n",
    "To quickly get started with popular training data in the medical domain, MONAI provides several data-specific Datasets:\n",
    "* MedNISTDataset, DecathlonDataset, etc.\n",
    "* Provides easy downloading from our AWS storage, extraction of data files and supports generation of training/evaluation items with transforms"
   ]
  },
  {
   "cell_type": "markdown",
   "id": "ee2c867b",
   "metadata": {
    "slideshow": {
     "slide_type": "slide"
    }
   },
   "source": [
    "##### Decathlon Dataset \n",
    "\n",
    "The [DecathlonDataset](https://docs.monai.io/en/latest/data.html?highlight=dataset#decathlon-datalist) function leverages the features described throughout this notebook.  These datasets are an extension of CacheDataset covered above."
   ]
  },
  {
   "cell_type": "code",
   "execution_count": 25,
   "id": "42ec8032",
   "metadata": {
    "slideshow": {
     "slide_type": "fragment"
    }
   },
   "outputs": [
    {
     "name": "stderr",
     "output_type": "stream",
     "text": [
      "Task09_Spleen.tar: 1.50GB [01:09, 23.2MB/s]                               \n"
     ]
    },
    {
     "name": "stdout",
     "output_type": "stream",
     "text": [
      "2023-04-11 17:13:35,090 - INFO - Downloaded: Task09_Spleen.tar\n",
      "2023-04-11 17:13:37,677 - INFO - Verified 'Task09_Spleen.tar', md5: 410d4a301da4e5b2f6f86ec3ddba524e.\n",
      "2023-04-11 17:13:37,679 - INFO - Writing into directory: ..\n"
     ]
    },
    {
     "name": "stderr",
     "output_type": "stream",
     "text": [
      "Loading dataset: 100%|██████████| 33/33 [02:40<00:00,  4.87s/it]\n"
     ]
    }
   ],
   "source": [
    "dataset = monai.apps.DecathlonDataset(root_dir=\"./\", task=\"Task09_Spleen\", section=\"training\", download=True)"
   ]
  },
  {
   "cell_type": "code",
   "execution_count": 26,
   "id": "e07ddc83",
   "metadata": {
    "slideshow": {
     "slide_type": "fragment"
    }
   },
   "outputs": [
    {
     "name": "stdout",
     "output_type": "stream",
     "text": [
      "{'numTraining': 41}\n",
      "{'description': 'Spleen Segmentation'}\n",
      "(512, 512, 55)\n",
      "(512, 512, 55)\n"
     ]
    }
   ],
   "source": [
    "print(dataset.get_properties(\"numTraining\"))\n",
    "print(dataset.get_properties(\"description\"))\n",
    "print(dataset[0]['image'].shape)\n",
    "print(dataset[0]['label'].shape)"
   ]
  },
  {
   "cell_type": "markdown",
   "id": "30f6ec6a",
   "metadata": {
    "slideshow": {
     "slide_type": "slide"
    }
   },
   "source": [
    "##### TCIA Dataset\n",
    "\n",
    "The Cancer Imaging Archive (TCIA)](https://www.cancerimagingarchive.net/) is a service which de-identifies and hosts a large publicly available archive of medical images of cancer:\n",
    "* TCIA is funded by the [Cancer Imaging Program (CIP)](https://imaging.cancer.gov/), a part of the United States [National Cancer Institute (NCI)](https://www.cancer.gov/), and is managed by the [Frederick National Laboratory for Cancer Research (FNLCR)](https://frederick.cancer.gov/).\n",
    "* The `TciaDataset` function will automatically download and extract the TCIA datasets with accompanying DICOM segmentations, and act as PyTorch datasets to generate training/validation/test data."
   ]
  },
  {
   "cell_type": "markdown",
   "id": "5e38c9a0",
   "metadata": {
    "slideshow": {
     "slide_type": "slide"
    }
   },
   "source": [
    "##### TCIA Dataset\n"
   ]
  },
  {
   "cell_type": "code",
   "execution_count": 27,
   "id": "03707576",
   "metadata": {
    "slideshow": {
     "slide_type": "fragment"
    }
   },
   "outputs": [
    {
     "name": "stdout",
     "output_type": "stream",
     "text": [
      "2023-04-11 17:16:23,829 - INFO - Expected md5 is None, skip md5 check for file QIN-PROSTATE-Repeatability/1.2.276.0.7230010.3.1.3.1426846371.19508.1513205205.886.zip.\n",
      "2023-04-11 17:16:23,830 - INFO - File exists: QIN-PROSTATE-Repeatability/1.2.276.0.7230010.3.1.3.1426846371.19508.1513205205.886.zip, skipped downloading.\n",
      "2023-04-11 17:16:23,835 - INFO - Writing into directory: ./QIN-PROSTATE-Repeatability/raw/1.2.276.0.7230010.3.1.3.1426846371.19508.1513205205.886.\n",
      "2023-04-11 17:16:23,985 - INFO - Expected md5 is None, skip md5 check for file QIN-PROSTATE-Repeatability/1.3.6.1.4.1.14519.5.2.1.3671.4754.250530982889039458942609884846.zip.\n",
      "2023-04-11 17:16:23,986 - INFO - File exists: QIN-PROSTATE-Repeatability/1.3.6.1.4.1.14519.5.2.1.3671.4754.250530982889039458942609884846.zip, skipped downloading.\n",
      "2023-04-11 17:16:23,992 - INFO - Writing into directory: ./QIN-PROSTATE-Repeatability/PCAMPMRI-00015/1901/image.\n",
      "{'image': 'QIN-PROSTATE-Repeatability/PCAMPMRI-00015/1901/image', 'seg': 'QIN-PROSTATE-Repeatability/PCAMPMRI-00015/1901/seg'}\n",
      "1\n"
     ]
    }
   ],
   "source": [
    "# Let's take the \"QIN-PROSTATE-Repeatability\" collection for example\n",
    "collection, seg_type = \"QIN-PROSTATE-Repeatability\", \"SEG\"\n",
    "\n",
    "ds = TciaDataset(\n",
    "    root_dir=\"./\",\n",
    "    collection=collection,\n",
    "    section=\"training\",\n",
    "    download=True,\n",
    "    download_len=1,\n",
    "    seg_type=seg_type,\n",
    "    progress=True,\n",
    "    cache_rate=0.0,\n",
    "    val_frac=0.2,\n",
    ")\n",
    "print(ds.datalist[0])\n",
    "print(len(ds.datalist))"
   ]
  },
  {
   "cell_type": "markdown",
   "id": "a459cab0",
   "metadata": {
    "slideshow": {
     "slide_type": "slide"
    }
   },
   "source": [
    "### What Network and Network components does MONAI provide and how do you use these components to create a network?\n",
    "\n",
    "MONAI provides definitions for networks and their components that inherit directly from Pytorch Module, Sequential, etc. These general purpose networks include parameterized topologies that can easily be expanded are independent from rest of MONAI so networks can be used with existing training code.\n",
    "\n",
    "MONAI includes the following submodules:\n",
    "* layers: defines low level layers, factories for selecting Pytorch and custom layers based on dimension and other arguments\n",
    "* blocks: mid-level building blocks defining specific reusable concepts networks are constructed from\n",
    "* nets: full network definitions for common architectures, eg. UNet, VNet, Densenet,\n"
   ]
  },
  {
   "cell_type": "markdown",
   "id": "1b01d98f",
   "metadata": {
    "slideshow": {
     "slide_type": "slide"
    }
   },
   "source": [
    "Blocks and networks use LayerFactory objects as generic factory for custom and PyTorch layers.\n",
    "\n",
    "MONAI provides blocks for defining:\n",
    "- Convolution with activation and regularization\n",
    "- Residual units\n",
    "- Squeeze/excitation\n",
    "- Downsampling/upsampling\n",
    "- Subpixel convolutions"
   ]
  },
  {
   "cell_type": "markdown",
   "id": "a2f87c02",
   "metadata": {
    "slideshow": {
     "slide_type": "slide"
    }
   },
   "source": [
    "#### How do you use MONAI Layers?\n",
    "\n",
    "Network functionality represents a significant design opportunity for MONAI:\n",
    "* Pytorch is very much unopinionated in how networks are defined\n",
    "* It provides Module as a base class to create a network and a few methods that must be implemented\n",
    "* Still, there is no prescribed pattern nor much helper functionality for initializing networks.\n",
    "\n",
    "The lack of helper functionality leaves a lot of room for defining some beneficial 'best practice' patterns for constructing new networks in MONAI:\n",
    "* Although trivial, inflexible network implementations are easy enough\n",
    "* We give users a toolset that makes it much easier to build well-engineered, flexible networks and demonstrate their value by committing to use them in the networks that we build"
   ]
  },
  {
   "cell_type": "code",
   "execution_count": 28,
   "id": "1f437cec",
   "metadata": {
    "slideshow": {
     "slide_type": "fragment"
    }
   },
   "outputs": [],
   "source": [
    "from monai.networks.layers import Conv, Act, split_args, Pool"
   ]
  },
  {
   "cell_type": "markdown",
   "id": "952c28cf",
   "metadata": {
    "slideshow": {
     "slide_type": "slide"
    }
   },
   "source": [
    "##### Convolutions\n",
    "\n",
    "The [Conv](https://docs.monai.io/en/latest/networks.html#convolution) class has two options for the first argument. The second argument must be the number of spatial dimensions, `Conv[name, dimension]`, for example:"
   ]
  },
  {
   "cell_type": "code",
   "execution_count": 29,
   "id": "4f172939",
   "metadata": {
    "slideshow": {
     "slide_type": "fragment"
    }
   },
   "outputs": [
    {
     "name": "stdout",
     "output_type": "stream",
     "text": [
      "<class 'torch.nn.modules.conv.Conv1d'>\n",
      "<class 'torch.nn.modules.conv.Conv2d'>\n",
      "<class 'torch.nn.modules.conv.Conv3d'>\n",
      "<class 'torch.nn.modules.conv.ConvTranspose1d'>\n",
      "<class 'torch.nn.modules.conv.ConvTranspose2d'>\n",
      "<class 'torch.nn.modules.conv.ConvTranspose3d'>\n"
     ]
    }
   ],
   "source": [
    "print(Conv[Conv.CONV, 1])\n",
    "print(Conv[Conv.CONV, 2])\n",
    "print(Conv[Conv.CONV, 3])\n",
    "print(Conv[Conv.CONVTRANS, 1])\n",
    "print(Conv[Conv.CONVTRANS, 2])\n",
    "print(Conv[Conv.CONVTRANS, 3])"
   ]
  },
  {
   "cell_type": "markdown",
   "id": "6790ab96",
   "metadata": {
    "slideshow": {
     "slide_type": "fragment"
    }
   },
   "source": [
    "The configured classes are the \"vanilla\" PyTorch layers. We could create instances of them by specifying the layer arguments:"
   ]
  },
  {
   "cell_type": "code",
   "execution_count": 30,
   "id": "bd4013c3",
   "metadata": {
    "slideshow": {
     "slide_type": "fragment"
    }
   },
   "outputs": [
    {
     "name": "stdout",
     "output_type": "stream",
     "text": [
      "Conv2d(1, 4, kernel_size=(3, 3), stride=(1, 1))\n",
      "Conv3d(1, 4, kernel_size=(3, 3, 3), stride=(1, 1, 1))\n"
     ]
    }
   ],
   "source": [
    "print(Conv[Conv.CONV, 2](in_channels=1, out_channels=4, kernel_size=3))\n",
    "print(Conv[Conv.CONV, 3](in_channels=1, out_channels=4, kernel_size=3))"
   ]
  },
  {
   "cell_type": "markdown",
   "id": "3abf729b",
   "metadata": {
    "slideshow": {
     "slide_type": "slide"
    }
   },
   "source": [
    "##### Activiation\n",
    "\n",
    "The [Act](https://docs.monai.io/en/latest/networks.html#module-monai.networks.layers.Act) classes don't require the spatial dimension information, but supports additional arguments."
   ]
  },
  {
   "cell_type": "code",
   "execution_count": 31,
   "id": "07d6898f",
   "metadata": {
    "slideshow": {
     "slide_type": "fragment"
    }
   },
   "outputs": [
    {
     "name": "stdout",
     "output_type": "stream",
     "text": [
      "<class 'torch.nn.modules.activation.PReLU'>\n"
     ]
    },
    {
     "data": {
      "text/plain": [
       "PReLU(num_parameters=1)"
      ]
     },
     "execution_count": 31,
     "metadata": {},
     "output_type": "execute_result"
    }
   ],
   "source": [
    "print(Act[Act.PRELU])\n",
    "Act[Act.PRELU](num_parameters=1, init=0.1)"
   ]
  },
  {
   "cell_type": "markdown",
   "id": "8eba84b1",
   "metadata": {
    "slideshow": {
     "slide_type": "fragment"
    }
   },
   "source": [
    "These could be fully specified with a tuple of `(type_name, arg_dict)`, such as `(\"prelu\", {\"num_parameters\": 1, \"init\": 0.1})`:"
   ]
  },
  {
   "cell_type": "code",
   "execution_count": 32,
   "id": "263cf221",
   "metadata": {
    "slideshow": {
     "slide_type": "fragment"
    }
   },
   "outputs": [
    {
     "data": {
      "text/plain": [
       "PReLU(num_parameters=1)"
      ]
     },
     "execution_count": 32,
     "metadata": {},
     "output_type": "execute_result"
    }
   ],
   "source": [
    "act_name, act_args = split_args((\"prelu\", {\"num_parameters\": 1, \"init\": 0.1}))\n",
    "Act[act_name](**act_args)"
   ]
  },
  {
   "cell_type": "markdown",
   "id": "041c1736",
   "metadata": {
    "slideshow": {
     "slide_type": "slide"
    }
   },
   "source": [
    "#### How do you use these components to create a network?\n",
    "\n",
    "##### Flexible Definition Networks\n",
    "\n",
    "These APIs allow for flexible definitions of networks.  Below we'll create a class called `MyNetwork` that utilizes `Conv`, `Act`, and `Pool`.  Each Network requires an `__init__` and a `forward` function."
   ]
  },
  {
   "cell_type": "code",
   "execution_count": 33,
   "id": "035da033",
   "metadata": {
    "slideshow": {
     "slide_type": "fragment"
    }
   },
   "outputs": [],
   "source": [
    "class MyNetwork(torch.nn.Module):\n",
    "    def __init__(self, dims=3, in_channels=1, out_channels=8, kernel_size=3, pool_kernel=2, act=\"relu\"):\n",
    "        super(MyNetwork, self).__init__()\n",
    "        # convolution\n",
    "        self.conv = Conv[Conv.CONV, dims](in_channels, out_channels, kernel_size=kernel_size)\n",
    "        # activation\n",
    "        act_type, act_args = split_args(act)\n",
    "        self.act = Act[act_type](**act_args)\n",
    "        # pooling\n",
    "        self.pool = Pool[Pool.MAX, dims](pool_kernel)\n",
    "\n",
    "    def forward(self, x: torch.Tensor):\n",
    "        x = self.conv(x)\n",
    "        x = self.act(x)\n",
    "        x = self.pool(x)\n",
    "        return x"
   ]
  },
  {
   "cell_type": "markdown",
   "id": "763f39d8",
   "metadata": {
    "slideshow": {
     "slide_type": "slide"
    }
   },
   "source": [
    "##### Example Instantiations\n",
    "\n",
    "This network definition can be instantiated to support either 2D or 3D inputs, with flexible kernel sizes.  It becomes handy when adapting the same architecture design for different tasks, switching among 2D, 2.5D, 3D easily."
   ]
  },
  {
   "cell_type": "code",
   "execution_count": 34,
   "id": "b95e4a46",
   "metadata": {
    "slideshow": {
     "slide_type": "fragment"
    }
   },
   "outputs": [
    {
     "name": "stdout",
     "output_type": "stream",
     "text": [
      "MyNetwork(\n",
      "  (conv): Conv3d(1, 8, kernel_size=(3, 3, 3), stride=(1, 1, 1))\n",
      "  (act): ReLU()\n",
      "  (pool): MaxPool3d(kernel_size=2, stride=2, padding=0, dilation=1, ceil_mode=False)\n",
      ")\n",
      "torch.Size([3, 8, 9, 9, 14])\n",
      "MyNetwork(\n",
      "  (conv): Conv2d(3, 8, kernel_size=(3, 3), stride=(1, 1))\n",
      "  (act): ELU(alpha=1.0, inplace=True)\n",
      "  (pool): MaxPool2d(kernel_size=2, stride=2, padding=0, dilation=1, ceil_mode=False)\n",
      ")\n",
      "torch.Size([3, 8, 11, 11])\n",
      "MyNetwork(\n",
      "  (conv): Conv3d(4, 8, kernel_size=(3, 3, 1), stride=(1, 1, 1))\n",
      "  (act): Sigmoid()\n",
      "  (pool): MaxPool3d(kernel_size=2, stride=2, padding=0, dilation=1, ceil_mode=False)\n",
      ")\n",
      "torch.Size([3, 8, 14, 14, 2])\n"
     ]
    }
   ],
   "source": [
    "# default network instance\n",
    "default_net = MyNetwork()\n",
    "print(default_net)\n",
    "print(default_net(torch.ones(3, 1, 20, 20, 30)).shape)\n",
    "\n",
    "# 2D network instance\n",
    "elu_net = MyNetwork(dims=2, in_channels=3, act=(\"elu\", {\"inplace\": True}))\n",
    "print(elu_net)\n",
    "print(elu_net(torch.ones(3, 3, 24, 24)).shape)\n",
    "\n",
    "# 3D network instance with anisotropic kernels\n",
    "sigmoid_net = MyNetwork(3, in_channels=4, kernel_size=(3, 3, 1), act=\"sigmoid\")\n",
    "print(sigmoid_net)\n",
    "print(sigmoid_net(torch.ones(3, 4, 30, 30, 5)).shape)"
   ]
  },
  {
   "cell_type": "markdown",
   "id": "6f5fc140",
   "metadata": {
    "slideshow": {
     "slide_type": "slide"
    }
   },
   "source": [
    "### MONAI Networks\n",
    "\n",
    "MONAI provides over 20 Networks including:\n",
    "- UNet\n",
    "- VNet\n",
    "- AHNet\n",
    "- VGG-like regressor, classifier, discriminator, critic\n",
    "- HighResNet\n",
    "- SENet\n",
    "- UNETR"
   ]
  },
  {
   "cell_type": "markdown",
   "id": "b86ca3b8",
   "metadata": {
    "slideshow": {
     "slide_type": "slide"
    }
   },
   "source": [
    "### Example UNets\n",
    "\n",
    "We'll define a 2D UNet network with 2 hidden layers having outputs with 8 channels, and a bottom (bottleneck) layer producing outputs with 32 channels.  The stride values state the stride for the initial convolution, ie. downsampling in down path and upsampling in up path and it'll transpose the convolutions used to implement upsampling.\n"
   ]
  },
  {
   "cell_type": "code",
   "execution_count": 35,
   "id": "f2ce3e41",
   "metadata": {
    "slideshow": {
     "slide_type": "fragment"
    }
   },
   "outputs": [],
   "source": [
    "net = monai.networks.nets.UNet(\n",
    "    spatial_dims=2,  # 2 or 3 for a 2D or 3D network\n",
    "    in_channels=1,  # number of input channels\n",
    "    out_channels=1,  # number of output channels\n",
    "    channels=[8, 16, 32],  # channel counts for layers\n",
    "    strides=[2, 2]  # strides for mid layers\n",
    ")"
   ]
  },
  {
   "cell_type": "code",
   "execution_count": 36,
   "id": "bcff937c",
   "metadata": {},
   "outputs": [
    {
     "name": "stdout",
     "output_type": "stream",
     "text": [
      "/opt/conda/bin/python\n"
     ]
    }
   ],
   "source": [
    "!which python"
   ]
  },
  {
   "cell_type": "markdown",
   "id": "1541ff10",
   "metadata": {
    "slideshow": {
     "slide_type": "slide"
    }
   },
   "source": [
    "## Summary\n",
    "\n",
    "We've covered MONAI Transforms, Datasets, Caching and Networks.  Some key highlights are:\n",
    "\n",
    "- There is a long list of medical specific transforms available in MONAI\n",
    "- There are array and dictionary versions of transforms.\n",
    "- You can create a simple callable lambda function or create a class based on transform to create your own custom tranform\n",
    "- You can create a MONAI dataset and directly pass a compose tranform chain to it\n",
    "- A MONAI Dataset is a generic dataset with a len property, getitem property, and an optional callable data transform when fetching a data sample.\n"
   ]
  },
  {
   "cell_type": "markdown",
   "id": "3052f9fa",
   "metadata": {
    "slideshow": {
     "slide_type": "slide"
    }
   },
   "source": [
    "## Summary\n",
    "- You can use dataset caching to store dataset transforms to speed up training.  Some included Caching options are CachingDataset, PersistentCaching, and SmartCaching\n",
    "- MONAI provides access to some commonly used medical imaging datasets including the DecathlonDataset\n",
    "- Understanding the basic MONAI Layers, Blocks, and Networks\n",
    "- Use MONAI layers to implement a flexible network and instnaite a two UNet examples with different parameters"
   ]
  }
 ],
 "metadata": {
  "celltoolbar": "Slideshow",
  "kernelspec": {
   "display_name": "Python 3 (ipykernel)",
   "language": "python",
   "name": "python3"
  },
  "language_info": {
   "codemirror_mode": {
    "name": "ipython",
    "version": 3
   },
   "file_extension": ".py",
   "mimetype": "text/x-python",
   "name": "python",
   "nbconvert_exporter": "python",
   "pygments_lexer": "ipython3",
   "version": "3.8.13"
  },
  "rise": {
   "header": "<img style='width: 100%; height: 100%;' src='https://raw.githubusercontent.com/Project-MONAI/project-monai.github.io/master/assets/logo/MONAI-logo_color.svg'>",
   "scroll": true,
   "theme": "white"
  }
 },
 "nbformat": 4,
 "nbformat_minor": 5
}
